{
 "cells": [
  {
   "cell_type": "markdown",
   "id": "1ff09015",
   "metadata": {},
   "source": [
    "# Important Library"
   ]
  },
  {
   "cell_type": "code",
   "execution_count": 1,
   "id": "b25cd5e2",
   "metadata": {
    "ExecuteTime": {
     "end_time": "2022-12-14T08:23:15.386321Z",
     "start_time": "2022-12-14T08:23:10.447902Z"
    }
   },
   "outputs": [
    {
     "name": "stderr",
     "output_type": "stream",
     "text": [
      "<frozen importlib._bootstrap>:228: RuntimeWarning: scipy._lib.messagestream.MessageStream size changed, may indicate binary incompatibility. Expected 56 from C header, got 64 from PyObject\n",
      "<frozen importlib._bootstrap>:228: RuntimeWarning: scipy._lib.messagestream.MessageStream size changed, may indicate binary incompatibility. Expected 56 from C header, got 64 from PyObject\n"
     ]
    },
    {
     "name": "stdout",
     "output_type": "stream",
     "text": [
      "0.16.0\n"
     ]
    },
    {
     "data": {
      "text/html": [
       "<style>.container { width:80% !important; }</style>"
      ],
      "text/plain": [
       "<IPython.core.display.HTML object>"
      ]
     },
     "metadata": {},
     "output_type": "display_data"
    }
   ],
   "source": [
    "import os\n",
    "from collections import defaultdict\n",
    "\n",
    "import csv\n",
    "import pandas as pd\n",
    "import numpy as np\n",
    "\n",
    "from sklearn import preprocessing\n",
    "\n",
    "from IPython.core.interactiveshell import InteractiveShell\n",
    "from IPython.display import display, HTML\n",
    "\n",
    "import seaborn as sns\n",
    "import matplotlib.pyplot as plt\n",
    "from matplotlib import rc\n",
    "\n",
    "import statistics\n",
    "import math\n",
    "import random\n",
    "from statistics import mean\n",
    "from scipy import stats\n",
    "from scipy.stats import pearsonr\n",
    "from scipy.integrate import quad\n",
    "import os\n",
    "os.system('python -c \"import open3d; print(open3d.__version__)\"')\n",
    "\n",
    "display(HTML(\"<style>.container { width:80% !important; }</style>\")) # change the size of the coding window\n",
    "# pd.set_option('display.max_colwidth', 150) # to display the full text on the notebook without truncation\n",
    "InteractiveShell.ast_node_interactivity = \"last_expr\"\n",
    "\n",
    "# np.set_printoptions(threshold=np.inf)"
   ]
  },
  {
   "cell_type": "markdown",
   "id": "e44caa2b",
   "metadata": {},
   "source": [
    "# Framework: Cue Combination"
   ]
  },
  {
   "cell_type": "markdown",
   "id": "05780669",
   "metadata": {
    "ExecuteTime": {
     "end_time": "2022-10-14T04:00:30.559485Z",
     "start_time": "2022-10-14T04:00:30.521650Z"
    }
   },
   "source": [
    "$$P(d| m, t) \n",
    "\\propto P(m, t | d) P(d) = P(m|d) P(t|d) P(d)$$ "
   ]
  },
  {
   "cell_type": "markdown",
   "id": "95b93ffa",
   "metadata": {
    "ExecuteTime": {
     "end_time": "2022-10-14T04:49:24.947655Z",
     "start_time": "2022-10-14T04:49:24.943582Z"
    }
   },
   "source": [
    "$$p(d \\mid m) =\\frac{1}{\\sqrt{2 \\pi \\sigma_m^2}} \\exp \\left\\{-\\frac{1}{2 \\sigma_m^2}\\left(d-d_m\\right)^2\\right\\}$$"
   ]
  },
  {
   "cell_type": "markdown",
   "id": "f6dce9cd",
   "metadata": {},
   "source": [
    "\n",
    "$$p(d \\mid t) =\\frac{1}{\\sqrt{2 \\pi \\sigma_t^2}} \\exp \\left\\{-\\frac{1}{2 \\sigma_t^2}\\left(d-d_t\\right)^2\\right\\}$$\n"
   ]
  },
  {
   "cell_type": "markdown",
   "id": "36f187d3",
   "metadata": {},
   "source": [
    "$$\n",
    "\\begin{gathered}\n",
    "d^*=\\frac{\\frac{1}{\\sigma_m^2} d_m+\\frac{1}{\\sigma_t^2} d_t}{\\frac{1}{\\sigma_m^2}+\\frac{1}{\\sigma_t^2}} \\\\\n",
    "\\sigma_{m, t}^2=\\frac{1}{\\frac{1}{\\sigma_m^2}+\\frac{1}{\\sigma_t^2}}=\\frac{\\sigma_m^2 \\sigma_t^2}{\\sigma_m^2+\\sigma_t^2} .\n",
    "\\end{gathered}\n",
    "$$"
   ]
  },
  {
   "cell_type": "markdown",
   "id": "c52e9fa3",
   "metadata": {},
   "source": [
    "$$p(d \\mid m, t) =\\frac{1}{\\sqrt{2 \\pi \\sigma_{m, t}^2}} \\exp \\left\\{-\\frac{1}{2 \\sigma_{m, t}^2}\\left(d-d^*\\right)^2\\right\\}$$"
   ]
  },
  {
   "cell_type": "markdown",
   "id": "da6efbeb",
   "metadata": {},
   "source": [
    "Assume $d_m = 1, d_t = 2, \\sigma_m^2 = 3, \\sigma_t^2 = 2$ "
   ]
  },
  {
   "cell_type": "code",
   "execution_count": null,
   "id": "5b9284ba",
   "metadata": {
    "ExecuteTime": {
     "end_time": "2022-10-20T05:33:36.068362Z",
     "start_time": "2022-10-20T05:33:36.063681Z"
    }
   },
   "outputs": [],
   "source": [
    "def normal(x, mu, variance):\n",
    "    p = 1 / math.sqrt(2 * math.pi * variance)\n",
    "    return p * np.exp(-0.5 / variance * (x - mu)**2)\n",
    "\n",
    "def combined_mean (dm, dt, vm, vt):\n",
    "    return (1/vm*dm +1/vt*dt) / (1/vm + 1/vt)\n",
    "\n",
    "def combined_variance (vm, vt):\n",
    "    return 1/(1/vm + 1/vt)"
   ]
  },
  {
   "cell_type": "code",
   "execution_count": null,
   "id": "e671d2fe",
   "metadata": {
    "ExecuteTime": {
     "end_time": "2022-10-20T05:33:32.272049Z",
     "start_time": "2022-10-20T05:33:32.111139Z"
    }
   },
   "outputs": [],
   "source": [
    "dm = 1\n",
    "vm = 3\n",
    "\n",
    "dt = 4\n",
    "vt = 2\n",
    "x = np.arange(-10, 10, 0.01)\n",
    " \n",
    "ddash = combined_mean (dm, dt, vm, vt)\n",
    "vdash = combined_variance (vm, vt)\n",
    "# Mean, Standard deviation pairs\n",
    "params = [(dm, vm), (dt,vt), (ddash, vdash)]\n",
    " \n",
    "# Plotting different normal distribution curves simultaneously\n",
    "plt.plot(x, normal(x, params[0][0], params[0][1]), color='r', label='Motion Cue Likelihood')\n",
    "plt.plot(x, normal(x, params[1][0], params[1][1]), color='g', label='Texture Cue Likelihood')\n",
    "# plt.axhline(y=0.1, color='grey', linestyle='-', label='Uniform Prior')\n",
    "\n",
    "# How to combine the prior?\n",
    "plt.plot(x, normal(x, params[2][0], params[2][1]), color='b', label='Posterior')\n",
    "   \n",
    "plt.xlabel(\"Cue Position\")\n",
    "plt.ylabel(\"P(X)\")\n",
    "plt.title(\"Cue Combination in Bayesian Framework\")\n",
    "   \n",
    "plt.legend()\n",
    "plt.show()"
   ]
  },
  {
   "cell_type": "markdown",
   "id": "193c20df",
   "metadata": {},
   "source": [
    "(CK) As a learning exercise it would be good to compute the posterior assuming that you don't know the expressions for `combined_mean()` and `combined_variance()`. You can\n",
    "1. First compute an unnormalized posterior by multiplying the motion likelihood and texture likelihood\n",
    "2. Normalize the posterior to create a valid probability density.\n",
    "The code below shows step 1.\n",
    "\n",
    "See if you can figure out why following steps 1 and 2 is a valid way to compute the posterior!"
   ]
  },
  {
   "cell_type": "code",
   "execution_count": null,
   "id": "a02e492e",
   "metadata": {
    "ExecuteTime": {
     "end_time": "2022-10-20T05:33:45.402321Z",
     "start_time": "2022-10-20T05:33:45.394009Z"
    }
   },
   "outputs": [],
   "source": [
    "\n",
    "norm, err = quad(lambda x: normal(x, params[0][0], params[0][1]) * normal(x, params[1][0], params[1][1]), -np.inf, np.inf)\n",
    "print(norm)\n",
    "\n",
    "result, err = quad(lambda x: 1/norm * normal(x,  params[0][0], params[0][1]) * normal(x, params[1][0], params[1][1]), -np.inf, np.inf)\n",
    "\n",
    "print(result)"
   ]
  },
  {
   "cell_type": "code",
   "execution_count": null,
   "id": "e3936462",
   "metadata": {
    "ExecuteTime": {
     "end_time": "2022-10-20T05:33:46.729315Z",
     "start_time": "2022-10-20T05:33:46.583981Z"
    }
   },
   "outputs": [],
   "source": [
    "plt.plot(x, normal(x, params[0][0], params[0][1]), color='r', label='Motion Cue Likelihood')\n",
    "plt.plot(x, normal(x, params[1][0], params[1][1]), color='g', label='Texture Cue Likelihood')\n",
    "# plot unnormalized posterior (which is the same as the product of the likelihoods)\n",
    "plt.plot(x, 1/norm * normal(x, params[0][0], params[0][1]) * normal(x, params[1][0], params[1][1]), color='b', label='Normalized Posterior')\n",
    "plt.legend()\n",
    "plt.show()"
   ]
  },
  {
   "cell_type": "markdown",
   "id": "a02eed46",
   "metadata": {},
   "source": [
    "(CK) After you've adjusted the code above to normalize the posterior, I'd suggest adding a Gaussian prior. You can then compute the unnormalized posterior as the product of the prior, the motion likelihood and the texture likelihood."
   ]
  },
  {
   "cell_type": "code",
   "execution_count": null,
   "id": "998470e1",
   "metadata": {
    "ExecuteTime": {
     "end_time": "2022-10-20T05:33:49.127552Z",
     "start_time": "2022-10-20T05:33:48.941422Z"
    }
   },
   "outputs": [],
   "source": [
    "plt.plot(x, normal(x, params[0][0], params[0][1]), color='r', label='Motion Cue Likelihood')\n",
    "plt.plot(x, normal(x, params[1][0], params[1][1]), color='g', label='Texture Cue Likelihood')\n",
    "# plot unnormalized posterior (which is the same as the product of the likelihoods)\n",
    "plt.plot(x, normal(x, 2, 2), color='grey', label='Prior')\n",
    "plt.plot(x, normal(x, 2, 2) * normal(x, params[0][0], params[0][1]) * normal(x, params[1][0], params[1][1]), color='b', label='Unnormalized Posterior')\n",
    "plt.legend()\n",
    "plt.show()"
   ]
  },
  {
   "cell_type": "code",
   "execution_count": null,
   "id": "c8fad8da",
   "metadata": {
    "ExecuteTime": {
     "end_time": "2022-10-20T05:33:50.476856Z",
     "start_time": "2022-10-20T05:33:50.469103Z"
    }
   },
   "outputs": [],
   "source": [
    "norm_wprior, err = quad(lambda x: normal(x, 2, 2) * normal(x, params[0][0], params[0][1]) * normal(x, params[1][0], params[1][1]), -np.inf, np.inf)\n",
    "print(norm_wprior)"
   ]
  },
  {
   "cell_type": "code",
   "execution_count": null,
   "id": "fba6053f",
   "metadata": {
    "ExecuteTime": {
     "end_time": "2022-10-20T05:33:51.796032Z",
     "start_time": "2022-10-20T05:33:51.650486Z"
    }
   },
   "outputs": [],
   "source": [
    "plt.plot(x, normal(x, params[0][0], params[0][1]), color='r', label='Motion Cue Likelihood')\n",
    "plt.plot(x, normal(x, params[1][0], params[1][1]), color='g', label='Texture Cue Likelihood')\n",
    "# plot unnormalized posterior (which is the same as the product of the likelihoods)\n",
    "plt.plot(x, normal(x, 2, 2), color='grey', label='Prior')\n",
    "plt.plot(x, 1/norm_wprior * normal(x, 2, 2) * normal(x, params[0][0], params[0][1]) * normal(x, params[1][0], params[1][1]), color='b', label='Normalized Posterior')\n",
    "plt.legend()\n",
    "plt.show()"
   ]
  },
  {
   "cell_type": "markdown",
   "id": "2407faf5",
   "metadata": {},
   "source": [
    "# Conceptual Modelling"
   ]
  },
  {
   "cell_type": "markdown",
   "id": "d338e73f",
   "metadata": {},
   "source": [
    "$$\n",
    "\\begin{array}{l|l|l}\n",
    "\\hline \\text { Notation } & \\text { In Visual Space Paper } & \\text { In Lighthouse Illusion } \\\\\n",
    "\\hline P(I) \\text { Normalisation } & \\text { visual stimulus } & P\\left(\\alpha_n, R_n\\right) \\\\\n",
    "\\hline P(S) \\text { Prior } & \\text { physical scene } & P\\ (\\alpha, R) \\\\\n",
    "\\hline P(I \\mid S) \\text { Likelihood } & \\text { stimulus generated by the scene } & P\\left(\\alpha_n, R_n \\mid \\alpha, R\\right)=P(\\alpha_n \\mid \\alpha)P(R_n \\mid R) \\\\\n",
    "\\hline P(S \\mid I) \\text { Posterior } & \\text { physical sources S (true locations) underlying a visual stimulus}  & P\\left(\\alpha_n, \\alpha\\right) P\\left(R_n, R\\right) \\\\\n",
    "\\hline\n",
    "\\end{array}\n",
    "$$"
   ]
  },
  {
   "cell_type": "markdown",
   "id": "e133fc91",
   "metadata": {},
   "source": [
    "$$P(\\alpha, R | \\alpha_0, R_0) \n",
    "\\propto P(\\alpha_0, R_0 | \\alpha, R) P(\\alpha, R)\n",
    "                                                  = P(\\alpha_0|\\alpha) P(R_0|R) P(\\alpha,R)$$"
   ]
  },
  {
   "cell_type": "markdown",
   "id": "a3dad3cc",
   "metadata": {},
   "source": [
    "##  Prior"
   ]
  },
  {
   "cell_type": "markdown",
   "id": "e47e8126",
   "metadata": {},
   "source": [
    "### Pinhole Camera Model\n",
    "Source: https://github.com/JarnoRalli/python_camera_library/blob/main/cameralib.py"
   ]
  },
  {
   "cell_type": "code",
   "execution_count": null,
   "id": "be5cda70",
   "metadata": {
    "ExecuteTime": {
     "end_time": "2022-10-27T04:12:10.194894Z",
     "start_time": "2022-10-27T04:12:10.174467Z"
    }
   },
   "outputs": [],
   "source": [
    "def homogenise(points: np.array):\n",
    "    \"\"\"Converts non-homogeneous 2D or 3D coordinates into homogeneous coordinates.\n",
    "    For example\n",
    "    [x1 x2 x3]    [x1 x2 x3]\n",
    "    [y1 y2 y3] -> [y1 y2 y3]\n",
    "                  [1  1  1]\n",
    "    Parameters\n",
    "    ----------\n",
    "    points : numpy.array, shape (dimensions, nr_points)\n",
    "    Returns\n",
    "    --------\n",
    "    points : numpy.array, shape (dimensions+1, nr_points)\n",
    "    \"\"\"\n",
    "\n",
    "    return np.concatenate((points, np.ones((1, points.shape[1]))), axis=0)\n",
    "\n",
    "def forwardprojectP(points: np.array, P: np.array, image_size, image=None):\n",
    "    \"\"\"\n",
    "    # Project 3D points, defined by [X Y Z]', onto an image plane defined by a 3x4 projection matrix P.\n",
    "    # Returns those 3D points that are withing the FOV of the camera (i.e. filters out those points\n",
    "      that are outside of the FOV), the corresponding uv-image coordinates, and a depth map.\n",
    "    \n",
    "    # Additionally, if an image is given, RGB for each 3D point is returned - None \n",
    "    \n",
    "    Parameters\n",
    "    ----------\n",
    "    points : numpy.array, shape (3, nr_points)\n",
    "    P : numpy array, shape (3, 4), Camera projection matrix P = K[R | t]\n",
    "        In our case, as camera is positioned in the center, \n",
    "        [R | t] = [1, 0, 0, 0]\n",
    "                  [0, 1, 0, 0]\n",
    "                  [0, 0, 1, 0]\n",
    "        K = [f, 0, px ]    [0.01,    0, 216]\n",
    "            [0, f, py ] => [   0, 0.01, 216] \n",
    "            [0, 0,  1 ]    [   0,    0,   1]\n",
    "                  \n",
    "    image_size : tuple\n",
    "            Image size, (512, 512)\n",
    "    image : numpy.array, optional\n",
    "            Image used for defining colors for each point (default is None).\n",
    "    \n",
    "    Returns\n",
    "    -------\n",
    "    Our Case:\n",
    "    (3D points, uv-coordinates, depth map) : numpy array\n",
    "        If no image is given (i.e. is None). Shapes are (3, nr_points), (3, nr_points) and (rows, cols)\n",
    "    (3D points, uv-coordinates, RGB, depth map) : numpy array\n",
    "        If image is given. Shapes are (3, nr_points), (3, nr_points), (3, nr_points) and (rows, cols)\n",
    "    \"\"\"\n",
    "\n",
    "    # Convert the image_size into a tuple. It might already be a tuple, but let's just make sure\n",
    "    image_size = (int(image_size[0]), int(image_size[1]))\n",
    "    depth_map = np.ones(image_size) * np.nan\n",
    "\n",
    "    try:\n",
    "        # Convert points into homogeneous form\n",
    "        points = homogenise(points)\n",
    "\n",
    "        # Project points to image\n",
    "        uv = np.matmul(P, points)\n",
    "\n",
    "        # Filter points that fall behind the camera\n",
    "        mask = uv[2, :] < 0.0\n",
    "        uv = uv[:, ~mask]\n",
    "        points = points[:, ~mask]\n",
    "\n",
    "        # Normalize coordinates\n",
    "        uv[0, :] /= uv[2, :]\n",
    "        uv[1, :] /= uv[2, :]\n",
    "        uv[2, :] /= uv[2, :]\n",
    "\n",
    "        # Mask out points that don't fall withing the given image (i.e. are outside of FOV)\n",
    "        mask = (uv[0, :] < 0) | (uv[0, :] > (image_size[1] - 1)) | (uv[1, :] < 0) | (uv[1, :] > (image_size[0] - 1))\n",
    "        points = points[:, ~mask]\n",
    "        uv = uv[:, ~mask]\n",
    "        \n",
    "#         print(np.round(uv[1, :]).astype(int))\n",
    "        \n",
    "        # Generate a depth map\n",
    "        depth_map[np.round(uv[1, :]).astype(int), np.round(uv[0, :]).astype(int)] = points[2, :]\n",
    "\n",
    "        # Handle colors, if given\n",
    "        if image is None:\n",
    "            return points[:3, :], uv, depth_map\n",
    "        else:\n",
    "            RGB = image[np.round(uv[1, :]).astype(int), np.round(uv[0, :]).astype(int), :]\n",
    "            return points[:3, :], uv, RGB, depth_map\n",
    "    except Exception as e:\n",
    "        raise"
   ]
  },
  {
   "cell_type": "markdown",
   "id": "624fe137",
   "metadata": {},
   "source": [
    "$P(S)$\n",
    "\n",
    "simple model in which ***1,000*** planar rectangular surfaces were uniformly placed at distances of ***2.5–300*** m, from ***150*** m left to ***150*** m right, and from the ground to ***25 m*** above the ground (which was 1.65 m below the image center). \n",
    "\n",
    "The sizes of these uniformly distributed surfaces ranged from ***0.2 to 18*** m. Five-hundred ***512 × 512*** images of this model made by a pinhole camera method showed statistical behavior similar to that derived from the range image database for a wide variety of specific values, although with different slopes and modes. \n",
    "    \n",
    "The ***2.5-m cut-off*** models the presumed tendency of observers to keep physical objects some distance away"
   ]
  },
  {
   "cell_type": "markdown",
   "id": "27855376",
   "metadata": {},
   "source": [
    "- 1000 simulations \n",
    "- 500 surfaces\n",
    "- size of surface U(0.2, 18) \n",
    "- horizontal position U(0, 300) \n",
    "- vertical position U(0, 25) \n",
    "- distance U(2.5, 300)"
   ]
  },
  {
   "cell_type": "markdown",
   "id": "64fcecc0",
   "metadata": {},
   "source": [
    "### One Snapshot"
   ]
  },
  {
   "cell_type": "code",
   "execution_count": null,
   "id": "daf3255b",
   "metadata": {
    "ExecuteTime": {
     "end_time": "2022-10-27T04:26:12.767250Z",
     "start_time": "2022-10-27T04:26:12.758097Z"
    }
   },
   "outputs": [],
   "source": [
    "scene_distance = list()\n",
    "\n",
    "NUM_SURFACES = 500\n",
    "# the dimensioanalities of possible locations of the simulated surfaces\n",
    "DIM_X = 300 \n",
    "DIM_Y = 25\n",
    "\n",
    "# the x-coord, y-coord, distance of each simulated surface\n",
    "# we store 2 points (left top and right bottom corners) for each surface, use two matrices accordingly\n",
    "simulations_left_top = np.empty(shape=(3, NUM_SURFACES))\n",
    "simulations_right_bottom = np.empty(shape=(3, NUM_SURFACES))\n",
    "\n",
    "for i in range(500):\n",
    "    size = random.uniform(0.2, 18)\n",
    "    \n",
    "    # CK: because you don't want the rectangles to go underneath the ground, might be better to sample the midpoint of the bottom edge of each rectangle\n",
    "    # coordinates of the simulated surface center\n",
    "#     coord_x = random.uniform(0, DIM_X + 1)\n",
    "    coord_x = random.uniform(-150, 150) # CK: shouldn't x-coordinates be between -150 and 150?\n",
    "    \n",
    "    coord_y = random.uniform(-1.65, DIM_Y - 1.65) # CK: for Yang and Purves the camera is at a height of 1.65 m. I think we should put the camera at the origin (height 0) and adjust the simulation so that the \"ground\" is at -1.65 m\n",
    "    \n",
    "    # store the (x, y) of the left top and right bottom corners of the surface to locate.\n",
    "    left_top_x = coord_x - size/2\n",
    "    left_top_y = coord_y + size/2\n",
    "    \n",
    "    right_bottom_x = coord_x + size/2\n",
    "    right_bottom_y = coord_y - size/2\n",
    "    \n",
    "#     distance = random.uniform(0.2, 18 + 1)\n",
    "    distance = random.uniform(2.5, 300)  # CK: shouldn't distances be between 2.5 and 300 m?\n",
    "    \n",
    "    simulations_left_top[0][i] = left_top_x\n",
    "    simulations_left_top[1][i] = left_top_y\n",
    "    simulations_left_top[2][i] = distance\n",
    "    \n",
    "    simulations_right_bottom[0][i] = right_bottom_x\n",
    "    simulations_right_bottom[1][i] = right_bottom_y\n",
    "    simulations_right_bottom[2][i] = distance\n",
    "    "
   ]
  },
  {
   "cell_type": "code",
   "execution_count": null,
   "id": "2962963d",
   "metadata": {
    "ExecuteTime": {
     "end_time": "2022-10-25T07:04:48.098827Z",
     "start_time": "2022-10-25T07:04:48.094280Z"
    }
   },
   "outputs": [],
   "source": [
    "simulations_left_top"
   ]
  },
  {
   "cell_type": "code",
   "execution_count": null,
   "id": "1a97c9d7",
   "metadata": {
    "ExecuteTime": {
     "end_time": "2022-10-27T04:47:25.133190Z",
     "start_time": "2022-10-27T04:47:24.921589Z"
    }
   },
   "outputs": [],
   "source": [
    "# Projection Matrix \n",
    "# f = 1\n",
    "f = 40\n",
    "# CK: I think we can treat f, px and py as having the same units\n",
    "px = 50\n",
    "py = 50\n",
    "K = np.array([(f, 0, px), \n",
    "              (0, f, py),\n",
    "              (0, 0,  1)])\n",
    "\n",
    "# no rotation and translation\n",
    "R_t = np.array([(1, 0, 0, 0), \n",
    "                (0, 1, 0, 0),\n",
    "                (0, 0, 1, 0)])\n",
    "\n",
    "P = np.matmul(K, R_t)\n",
    "\n",
    "original, projected, depth = forwardprojectP(simulations_left_top, P, (100, 100))\n",
    "\n",
    "#for i in range(512):\n",
    "    #print(depth[i])\n",
    "    \n",
    "print(np.shape(depth))\n",
    "original, projected, depth\n",
    "# Output: (Original, Projected, Depth)"
   ]
  },
  {
   "cell_type": "code",
   "execution_count": null,
   "id": "8ddac2b9",
   "metadata": {
    "ExecuteTime": {
     "end_time": "2022-10-27T04:43:40.245492Z",
     "start_time": "2022-10-27T04:43:40.240719Z"
    }
   },
   "outputs": [],
   "source": [
    "np.nanmin(np.ravel(depth, order = \"K\"))"
   ]
  },
  {
   "cell_type": "code",
   "execution_count": null,
   "id": "4380a5ec",
   "metadata": {
    "ExecuteTime": {
     "end_time": "2022-10-27T04:47:28.878244Z",
     "start_time": "2022-10-27T04:47:28.687574Z"
    }
   },
   "outputs": [],
   "source": [
    "import matplotlib.pyplot as plt\n",
    "\n",
    "plt.imshow(depth)\n",
    "plt.colorbar()\n",
    "plt.show()"
   ]
  },
  {
   "cell_type": "code",
   "execution_count": null,
   "id": "108963f1",
   "metadata": {
    "ExecuteTime": {
     "end_time": "2022-10-27T04:41:08.756910Z",
     "start_time": "2022-10-27T04:41:08.704133Z"
    }
   },
   "outputs": [],
   "source": [
    "for i in range(50):\n",
    "    print(depth[i])\n",
    "    "
   ]
  },
  {
   "cell_type": "code",
   "execution_count": null,
   "id": "a3f79c31",
   "metadata": {
    "ExecuteTime": {
     "end_time": "2022-10-27T04:34:30.207260Z",
     "start_time": "2022-10-27T04:34:30.187057Z"
    }
   },
   "outputs": [],
   "source": [
    "sum(sum(~np.isnan(depth), 2))"
   ]
  },
  {
   "cell_type": "markdown",
   "id": "b7359d8a",
   "metadata": {},
   "source": [
    "## Projection in 3D"
   ]
  },
  {
   "cell_type": "code",
   "execution_count": null,
   "id": "a06179fe",
   "metadata": {
    "ExecuteTime": {
     "end_time": "2022-10-28T10:02:54.252088Z",
     "start_time": "2022-10-28T10:02:50.138361Z"
    },
    "scrolled": true
   },
   "outputs": [],
   "source": [
    "pip install open3d"
   ]
  },
  {
   "cell_type": "code",
   "execution_count": null,
   "id": "5fa36cf9",
   "metadata": {
    "ExecuteTime": {
     "start_time": "2022-10-28T23:05:03.220Z"
    }
   },
   "outputs": [],
   "source": [
    "import open3d as o3d\n",
    "from matplotlib import pyplot as plt\n",
    "\n",
    "sphere = o3d.geometry.TriangleMesh.create_sphere(4.0)\n",
    "sphere.compute_vertex_normals()\n",
    "cylinder = o3d.geometry.TriangleMesh.create_cylinder(1.0, 4.0, 30, 4)\n",
    "cylinder.compute_triangle_normals()\n",
    "cylinder.translate([6, 2, 0.0])\n",
    "\n",
    "render = o3d.visualization.rendering.OffscreenRenderer(640, 480)\n",
    "mat = o3d.visualization.rendering.MaterialRecord()\n",
    "mat.shader = 'defaultLit'\n",
    "\n",
    "render.scene.add_geometry(\"sphere1\", sphere, mat)\n",
    "render.scene.add_geometry(\"cylinder1\", cylinder, mat)\n",
    "render.setup_camera(45, [0, 0, 0], [0, 0, -25.0], [0, 1, 0])\n",
    "\n",
    "cimg = render.render_to_image()\n",
    "dimg = render.render_to_depth_image()\n",
    "\n",
    "plt.subplot(1, 2, 1)\n",
    "plt.imshow(cimg)\n",
    "plt.subplot(1, 2, 2)\n",
    "plt.imshow(dimg)\n",
    "plt.show()"
   ]
  },
  {
   "cell_type": "code",
   "execution_count": null,
   "id": "3542f1e9",
   "metadata": {
    "ExecuteTime": {
     "end_time": "2022-10-28T10:54:01.090228Z",
     "start_time": "2022-10-28T10:53:48.466214Z"
    }
   },
   "outputs": [],
   "source": [
    "pip install opencv-python"
   ]
  },
  {
   "cell_type": "code",
   "execution_count": null,
   "id": "a36068ed",
   "metadata": {
    "ExecuteTime": {
     "end_time": "2022-10-29T00:06:05.261052Z",
     "start_time": "2022-10-29T00:05:58.769977Z"
    }
   },
   "outputs": [],
   "source": [
    "pip install pygame"
   ]
  },
  {
   "cell_type": "code",
   "execution_count": 1,
   "id": "707944f4",
   "metadata": {
    "ExecuteTime": {
     "end_time": "2022-10-29T01:47:36.192299Z",
     "start_time": "2022-10-29T01:47:35.306160Z"
    }
   },
   "outputs": [
    {
     "data": {
      "text/html": [
       "<div id=\"glowscript\" class=\"glowscript\"></div>"
      ],
      "text/plain": [
       "<IPython.core.display.HTML object>"
      ]
     },
     "metadata": {},
     "output_type": "display_data"
    },
    {
     "data": {
      "application/javascript": [
       "if (typeof Jupyter !== \"undefined\") { window.__context = { glowscript_container: $(\"#glowscript\").removeAttr(\"id\")};}else{ element.textContent = ' ';}"
      ],
      "text/plain": [
       "<IPython.core.display.Javascript object>"
      ]
     },
     "metadata": {},
     "output_type": "display_data"
    }
   ],
   "source": [
    "import vpython"
   ]
  },
  {
   "cell_type": "markdown",
   "id": "510ebf40",
   "metadata": {},
   "source": [
    "### Prior Distribution for each angle"
   ]
  },
  {
   "cell_type": "code",
   "execution_count": 2,
   "id": "5d5194b8",
   "metadata": {
    "ExecuteTime": {
     "end_time": "2022-10-31T07:53:53.035372Z",
     "start_time": "2022-10-31T07:53:52.799423Z"
    }
   },
   "outputs": [
    {
     "name": "stdout",
     "output_type": "stream",
     "text": [
      "Illusion in Bayesian.ipynb      depth.npy\r\n",
      "LICENSE                         depth_0.npy\r\n",
      "README.md                       \u001b[1m\u001b[36mopen3D\u001b[m\u001b[m/\r\n",
      "Simulation with Graphics.ipynb  \u001b[1m\u001b[36mvPython\u001b[m\u001b[m/\r\n",
      "\u001b[1m\u001b[36mSnapshots\u001b[m\u001b[m/\r\n"
     ]
    }
   ],
   "source": [
    "ls"
   ]
  },
  {
   "cell_type": "markdown",
   "id": "b304515f",
   "metadata": {},
   "source": [
    "### Combined with the Likelihood"
   ]
  },
  {
   "cell_type": "code",
   "execution_count": null,
   "id": "500e4c4d",
   "metadata": {},
   "outputs": [],
   "source": []
  }
 ],
 "metadata": {
  "hide_input": false,
  "kernelspec": {
   "display_name": "Python 3 (ipykernel)",
   "language": "python",
   "name": "python3"
  },
  "language_info": {
   "codemirror_mode": {
    "name": "ipython",
    "version": 3
   },
   "file_extension": ".py",
   "mimetype": "text/x-python",
   "name": "python",
   "nbconvert_exporter": "python",
   "pygments_lexer": "ipython3",
   "version": "3.9.7"
  },
  "latex_envs": {
   "LaTeX_envs_menu_present": true,
   "autoclose": false,
   "autocomplete": true,
   "bibliofile": "biblio.bib",
   "cite_by": "apalike",
   "current_citInitial": 1,
   "eqLabelWithNumbers": true,
   "eqNumInitial": 1,
   "hotkeys": {
    "equation": "Ctrl-E",
    "itemize": "Ctrl-I"
   },
   "labels_anchors": false,
   "latex_user_defs": false,
   "report_style_numbering": false,
   "user_envs_cfg": false
  },
  "toc": {
   "base_numbering": 1,
   "nav_menu": {},
   "number_sections": true,
   "sideBar": true,
   "skip_h1_title": false,
   "title_cell": "Table of Contents",
   "title_sidebar": "Contents",
   "toc_cell": false,
   "toc_position": {
    "height": "calc(100% - 180px)",
    "left": "10px",
    "top": "150px",
    "width": "238px"
   },
   "toc_section_display": true,
   "toc_window_display": true
  },
  "varInspector": {
   "cols": {
    "lenName": 16,
    "lenType": 16,
    "lenVar": 40
   },
   "kernels_config": {
    "python": {
     "delete_cmd_postfix": "",
     "delete_cmd_prefix": "del ",
     "library": "var_list.py",
     "varRefreshCmd": "print(var_dic_list())"
    },
    "r": {
     "delete_cmd_postfix": ") ",
     "delete_cmd_prefix": "rm(",
     "library": "var_list.r",
     "varRefreshCmd": "cat(var_dic_list()) "
    }
   },
   "types_to_exclude": [
    "module",
    "function",
    "builtin_function_or_method",
    "instance",
    "_Feature"
   ],
   "window_display": false
  },
  "vscode": {
   "interpreter": {
    "hash": "40d3a090f54c6569ab1632332b64b2c03c39dcf918b08424e98f38b5ae0af88f"
   }
  }
 },
 "nbformat": 4,
 "nbformat_minor": 5
}
