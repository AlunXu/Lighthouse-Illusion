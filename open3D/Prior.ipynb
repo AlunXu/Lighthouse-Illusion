{
 "cells": [
  {
   "cell_type": "code",
   "execution_count": 96,
   "id": "c500fdc6",
   "metadata": {
    "ExecuteTime": {
     "end_time": "2022-11-01T03:07:54.116944Z",
     "start_time": "2022-11-01T03:07:51.496449Z"
    }
   },
   "outputs": [
    {
     "name": "stderr",
     "output_type": "stream",
     "text": [
      "/opt/anaconda3/lib/python3.9/site-packages/scipy/__init__.py:146: UserWarning: A NumPy version >=1.16.5 and <1.23.0 is required for this version of SciPy (detected version 1.23.4\n",
      "  warnings.warn(f\"A NumPy version >={np_minversion} and <{np_maxversion}\"\n"
     ]
    }
   ],
   "source": [
    "import numpy as np\n",
    "import sys\n",
    "import os\n",
    "import pandas as pd\n",
    "import seaborn as sns\n",
    "import matplotlib.pyplot as plt\n",
    "np.set_printoptions(threshold=sys.maxsize) # show full ndarray"
   ]
  },
  {
   "cell_type": "code",
   "execution_count": 116,
   "id": "6671d2c5",
   "metadata": {
    "ExecuteTime": {
     "end_time": "2022-11-02T11:38:33.138322Z",
     "start_time": "2022-11-02T11:38:30.550570Z"
    }
   },
   "outputs": [],
   "source": [
    "directory = '../Snapshots/'\n",
    "\n",
    "# iterate over each snapshot\n",
    "initialise = True\n",
    "for filename in os.listdir(directory):\n",
    "#     snapshot = np.flip(np.load(directory+filename), axis=0) # the deep map origin is on the top\n",
    "    snapshot = np.load(directory+filename)# the deep map origin is on the top\n",
    "    \n",
    "    snapshot = snapshot[:, 255] # take the middle column\n",
    "    if initialise is True:\n",
    "        prior = snapshot\n",
    "        initialise = False\n",
    "    else:\n",
    "        prior = np.vstack((prior, snapshot))  \n",
    "\n",
    "prior = prior.T\n",
    "prior_mean = np.ma.masked_invalid(prior).mean(axis=1)  # ignore the inf\n",
    "\n",
    "height = np.array(range(512))\n",
    "prior_dist = np.append(height[:, None], prior_mean[:, None], axis=1)\n",
    "\n",
    "column_values = ['Height', 'Distance']\n",
    "  \n",
    "# creating the dataframe\n",
    "prior_dist_df = pd.DataFrame(data = prior_dist, \n",
    "                  columns = column_values)\n",
    "  \n",
    "prior_dist_df.to_pickle('prior_dist') "
   ]
  },
  {
   "cell_type": "code",
   "execution_count": 111,
   "id": "2abe4417",
   "metadata": {
    "ExecuteTime": {
     "end_time": "2022-11-01T04:26:44.355244Z",
     "start_time": "2022-11-01T04:26:44.220876Z"
    }
   },
   "outputs": [
    {
     "data": {
      "text/plain": [
       "<AxesSubplot:xlabel='Distance', ylabel='Height'>"
      ]
     },
     "execution_count": 111,
     "metadata": {},
     "output_type": "execute_result"
    },
    {
     "data": {
      "image/png": "[encoded data removed]",
      "text/plain": [
       "<Figure size 432x288 with 1 Axes>"
      ]
     },
     "metadata": {
      "needs_background": "light"
     },
     "output_type": "display_data"
    }
   ],
   "source": [
    "prior_dist_df = pd.read_pickle('prior_dist')\n",
    "sns.scatterplot(data=prior_dist_df, x=\"Distance\", y=\"Height\")"
   ]
  },
  {
   "cell_type": "code",
   "execution_count": 115,
   "id": "331a232d",
   "metadata": {
    "ExecuteTime": {
     "end_time": "2022-11-02T11:34:51.593158Z",
     "start_time": "2022-11-02T11:34:48.942044Z"
    }
   },
   "outputs": [
    {
     "data": {
      "text/plain": [
       "<AxesSubplot:xlabel='Distance', ylabel='Height'>"
      ]
     },
     "execution_count": 115,
     "metadata": {},
     "output_type": "execute_result"
    },
    {
     "data": {
      "image/png": "[encoded data removed]",
      "text/plain": [
       "<Figure size 432x288 with 1 Axes>"
      ]
     },
     "metadata": {
      "needs_background": "light"
     },
     "output_type": "display_data"
    }
   ],
   "source": [
    "directory = '../Snapshots-NoGround/'\n",
    "\n",
    "# iterate over each snapshot\n",
    "initialise = True\n",
    "for filename in os.listdir(directory):\n",
    "    snapshot = np.load(directory+filename) # the deep map origin is on the top\n",
    "    snapshot = snapshot[:, 255] # take the middle column\n",
    "    if initialise is True:\n",
    "        prior = snapshot\n",
    "        initialise = False\n",
    "    else:\n",
    "        prior = np.vstack((prior, snapshot))  \n",
    "\n",
    "prior = prior.T\n",
    "prior_mean = np.ma.masked_invalid(prior).mean(axis=1)  # ignore the inf\n",
    "\n",
    "height = np.array(range(512))\n",
    "prior_dist = np.append(height[:, None], prior_mean[:, None], axis=1)\n",
    "\n",
    "column_values = ['Height', 'Distance']\n",
    "  \n",
    "# creating the dataframe\n",
    "prior_dist_df = pd.DataFrame(data = prior_dist, \n",
    "                  columns = column_values)\n",
    "  \n",
    "prior_dist_df.to_pickle('prior_dist_NG') \n",
    "\n",
    "prior_dist_df = pd.read_pickle('prior_dist_NG')\n",
    "sns.scatterplot(data=prior_dist_df, x=\"Distance\", y=\"Height\")"
   ]
  }
 ],
 "metadata": {
  "hide_input": false,
  "kernelspec": {
   "display_name": "Python 3 (ipykernel)",
   "language": "python",
   "name": "python3"
  },
  "language_info": {
   "codemirror_mode": {
    "name": "ipython",
    "version": 3
   },
   "file_extension": ".py",
   "mimetype": "text/x-python",
   "name": "python",
   "nbconvert_exporter": "python",
   "pygments_lexer": "ipython3",
   "version": "3.9.7"
  },
  "latex_envs": {
   "LaTeX_envs_menu_present": true,
   "autoclose": false,
   "autocomplete": true,
   "bibliofile": "biblio.bib",
   "cite_by": "apalike",
   "current_citInitial": 1,
   "eqLabelWithNumbers": true,
   "eqNumInitial": 1,
   "hotkeys": {
    "equation": "Ctrl-E",
    "itemize": "Ctrl-I"
   },
   "labels_anchors": false,
   "latex_user_defs": false,
   "report_style_numbering": false,
   "user_envs_cfg": false
  },
  "toc": {
   "base_numbering": 1,
   "nav_menu": {},
   "number_sections": true,
   "sideBar": true,
   "skip_h1_title": false,
   "title_cell": "Table of Contents",
   "title_sidebar": "Contents",
   "toc_cell": false,
   "toc_position": {},
   "toc_section_display": true,
   "toc_window_display": false
  },
  "varInspector": {
   "cols": {
    "lenName": 16,
    "lenType": 16,
    "lenVar": 40
   },
   "kernels_config": {
    "python": {
     "delete_cmd_postfix": "",
     "delete_cmd_prefix": "del ",
     "library": "var_list.py",
     "varRefreshCmd": "print(var_dic_list())"
    },
    "r": {
     "delete_cmd_postfix": ") ",
     "delete_cmd_prefix": "rm(",
     "library": "var_list.r",
     "varRefreshCmd": "cat(var_dic_list()) "
    }
   },
   "types_to_exclude": [
    "module",
    "function",
    "builtin_function_or_method",
    "instance",
    "_Feature"
   ],
   "window_display": false
  }
 },
 "nbformat": 4,
 "nbformat_minor": 5
}
