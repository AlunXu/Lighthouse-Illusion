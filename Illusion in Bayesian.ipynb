{
 "cells": [
  {
   "cell_type": "markdown",
   "metadata": {},
   "source": [
    "# Important Library"
   ]
  },
  {
   "cell_type": "code",
   "execution_count": 103,
   "metadata": {
    "ExecuteTime": {
     "end_time": "2022-10-25T06:23:24.466367Z",
     "start_time": "2022-10-25T06:23:24.414936Z"
    }
   },
   "outputs": [
    {
     "data": {
      "text/html": [
       "<style>.container { width:80% !important; }</style>"
      ],
      "text/plain": [
       "<IPython.core.display.HTML object>"
      ]
     },
     "metadata": {},
     "output_type": "display_data"
    }
   ],
   "source": [
    "import os\n",
    "from collections import defaultdict\n",
    "\n",
    "import csv\n",
    "import pandas as pd\n",
    "import numpy as np\n",
    "from sklearn import preprocessing\n",
    "\n",
    "from IPython.core.interactiveshell import InteractiveShell\n",
    "from IPython.display import display, HTML\n",
    "\n",
    "import seaborn as sns\n",
    "import matplotlib.pyplot as plt\n",
    "from matplotlib import rc\n",
    "\n",
    "import statistics\n",
    "import math\n",
    "import random\n",
    "from statistics import mean\n",
    "from scipy import stats\n",
    "from scipy.stats import pearsonr\n",
    "from scipy.integrate import quad\n",
    "\n",
    "display(HTML(\"<style>.container { width:80% !important; }</style>\")) # change the size of the coding window\n",
    "# pd.set_option('display.max_colwidth', 150) # to display the full text on the notebook without truncation\n",
    "InteractiveShell.ast_node_interactivity = \"last_expr\"\n",
    "\n",
    "# np.set_printoptions(threshold=np.inf)"
   ]
  },
  {
   "cell_type": "markdown",
   "metadata": {},
   "source": [
    "# Framework: Cue Combination"
   ]
  },
  {
   "cell_type": "markdown",
   "metadata": {
    "ExecuteTime": {
     "end_time": "2022-10-14T04:00:30.559485Z",
     "start_time": "2022-10-14T04:00:30.521650Z"
    }
   },
   "source": [
    "$$P(d| m, t) \n",
    "\\propto P(m, t | d) P(d) = P(m|d) P(t|d) P(d)$$ "
   ]
  },
  {
   "cell_type": "markdown",
   "metadata": {
    "ExecuteTime": {
     "end_time": "2022-10-14T04:49:24.947655Z",
     "start_time": "2022-10-14T04:49:24.943582Z"
    }
   },
   "source": [
    "$$p(d \\mid m) =\\frac{1}{\\sqrt{2 \\pi \\sigma_m^2}} \\exp \\left\\{-\\frac{1}{2 \\sigma_m^2}\\left(d-d_m\\right)^2\\right\\}$$"
   ]
  },
  {
   "cell_type": "markdown",
   "metadata": {},
   "source": [
    "\n",
    "$$p(d \\mid t) =\\frac{1}{\\sqrt{2 \\pi \\sigma_t^2}} \\exp \\left\\{-\\frac{1}{2 \\sigma_t^2}\\left(d-d_t\\right)^2\\right\\}$$\n"
   ]
  },
  {
   "cell_type": "markdown",
   "metadata": {},
   "source": [
    "$$\n",
    "\\begin{gathered}\n",
    "d^*=\\frac{\\frac{1}{\\sigma_m^2} d_m+\\frac{1}{\\sigma_t^2} d_t}{\\frac{1}{\\sigma_m^2}+\\frac{1}{\\sigma_t^2}} \\\\\n",
    "\\sigma_{m, t}^2=\\frac{1}{\\frac{1}{\\sigma_m^2}+\\frac{1}{\\sigma_t^2}}=\\frac{\\sigma_m^2 \\sigma_t^2}{\\sigma_m^2+\\sigma_t^2} .\n",
    "\\end{gathered}\n",
    "$$"
   ]
  },
  {
   "cell_type": "markdown",
   "metadata": {},
   "source": [
    "$$p(d \\mid m, t) =\\frac{1}{\\sqrt{2 \\pi \\sigma_{m, t}^2}} \\exp \\left\\{-\\frac{1}{2 \\sigma_{m, t}^2}\\left(d-d^*\\right)^2\\right\\}$$"
   ]
  },
  {
   "cell_type": "markdown",
   "metadata": {},
   "source": [
    "Assume $d_m = 1, d_t = 2, \\sigma_m^2 = 3, \\sigma_t^2 = 2$ "
   ]
  },
  {
   "cell_type": "code",
   "execution_count": 104,
   "metadata": {
    "ExecuteTime": {
     "end_time": "2022-10-20T05:33:36.068362Z",
     "start_time": "2022-10-20T05:33:36.063681Z"
    }
   },
   "outputs": [],
   "source": [
    "def normal(x, mu, variance):\n",
    "    p = 1 / math.sqrt(2 * math.pi * variance)\n",
    "    return p * np.exp(-0.5 / variance * (x - mu)**2)\n",
    "\n",
    "def combined_mean (dm, dt, vm, vt):\n",
    "    return (1/vm*dm +1/vt*dt) / (1/vm + 1/vt)\n",
    "\n",
    "def combined_variance (vm, vt):\n",
    "    return 1/(1/vm + 1/vt)"
   ]
  },
  {
   "cell_type": "code",
   "execution_count": 105,
   "metadata": {
    "ExecuteTime": {
     "end_time": "2022-10-20T05:33:32.272049Z",
     "start_time": "2022-10-20T05:33:32.111139Z"
    }
   },
   "outputs": [
    {
     "data": {
      "image/png": "[encoded data removed]",
      "text/plain": [
       "<Figure size 432x288 with 1 Axes>"
      ]
     },
     "metadata": {
      "needs_background": "light"
     },
     "output_type": "display_data"
    }
   ],
   "source": [
    "dm = 1\n",
    "vm = 3\n",
    "\n",
    "dt = 4\n",
    "vt = 2\n",
    "x = np.arange(-10, 10, 0.01)\n",
    " \n",
    "ddash = combined_mean (dm, dt, vm, vt)\n",
    "vdash = combined_variance (vm, vt)\n",
    "# Mean, Standard deviation pairs\n",
    "params = [(dm, vm), (dt,vt), (ddash, vdash)]\n",
    " \n",
    "# Plotting different normal distribution curves simultaneously\n",
    "plt.plot(x, normal(x, params[0][0], params[0][1]), color='r', label='Motion Cue Likelihood')\n",
    "plt.plot(x, normal(x, params[1][0], params[1][1]), color='g', label='Texture Cue Likelihood')\n",
    "# plt.axhline(y=0.1, color='grey', linestyle='-', label='Uniform Prior')\n",
    "\n",
    "# How to combine the prior?\n",
    "plt.plot(x, normal(x, params[2][0], params[2][1]), color='b', label='Posterior')\n",
    "   \n",
    "plt.xlabel(\"Cue Position\")\n",
    "plt.ylabel(\"P(X)\")\n",
    "plt.title(\"Cue Combination in Bayesian Framework\")\n",
    "   \n",
    "plt.legend()\n",
    "plt.show()"
   ]
  },
  {
   "cell_type": "markdown",
   "metadata": {},
   "source": [
    "(CK) As a learning exercise it would be good to compute the posterior assuming that you don't know the expressions for `combined_mean()` and `combined_variance()`. You can\n",
    "1. First compute an unnormalized posterior by multiplying the motion likelihood and texture likelihood\n",
    "2. Normalize the posterior to create a valid probability density.\n",
    "The code below shows step 1.\n",
    "\n",
    "See if you can figure out why following steps 1 and 2 is a valid way to compute the posterior!"
   ]
  },
  {
   "cell_type": "code",
   "execution_count": 106,
   "metadata": {
    "ExecuteTime": {
     "end_time": "2022-10-20T05:33:45.402321Z",
     "start_time": "2022-10-20T05:33:45.394009Z"
    }
   },
   "outputs": [
    {
     "name": "stdout",
     "output_type": "stream",
     "text": [
      "0.0725370734839233\n",
      "0.9999999999999947\n"
     ]
    }
   ],
   "source": [
    "\n",
    "norm, err = quad(lambda x: normal(x, params[0][0], params[0][1]) * normal(x, params[1][0], params[1][1]), -np.inf, np.inf)\n",
    "print(norm)\n",
    "\n",
    "result, err = quad(lambda x: 1/norm * normal(x,  params[0][0], params[0][1]) * normal(x, params[1][0], params[1][1]), -np.inf, np.inf)\n",
    "\n",
    "print(result)"
   ]
  },
  {
   "cell_type": "code",
   "execution_count": 107,
   "metadata": {
    "ExecuteTime": {
     "end_time": "2022-10-20T05:33:46.729315Z",
     "start_time": "2022-10-20T05:33:46.583981Z"
    }
   },
   "outputs": [
    {
     "data": {
      "image/png": "[encoded data removed]",
      "text/plain": [
       "<Figure size 432x288 with 1 Axes>"
      ]
     },
     "metadata": {
      "needs_background": "light"
     },
     "output_type": "display_data"
    }
   ],
   "source": [
    "plt.plot(x, normal(x, params[0][0], params[0][1]), color='r', label='Motion Cue Likelihood')\n",
    "plt.plot(x, normal(x, params[1][0], params[1][1]), color='g', label='Texture Cue Likelihood')\n",
    "# plot unnormalized posterior (which is the same as the product of the likelihoods)\n",
    "plt.plot(x, 1/norm * normal(x, params[0][0], params[0][1]) * normal(x, params[1][0], params[1][1]), color='b', label='Normalized Posterior')\n",
    "plt.legend()\n",
    "plt.show()"
   ]
  },
  {
   "cell_type": "markdown",
   "metadata": {},
   "source": [
    "(CK) After you've adjusted the code above to normalize the posterior, I'd suggest adding a Gaussian prior. You can then compute the unnormalized posterior as the product of the prior, the motion likelihood and the texture likelihood."
   ]
  },
  {
   "cell_type": "code",
   "execution_count": 108,
   "metadata": {
    "ExecuteTime": {
     "end_time": "2022-10-20T05:33:49.127552Z",
     "start_time": "2022-10-20T05:33:48.941422Z"
    }
   },
   "outputs": [
    {
     "data": {
      "image/png": "[encoded data removed]",
      "text/plain": [
       "<Figure size 432x288 with 1 Axes>"
      ]
     },
     "metadata": {
      "needs_background": "light"
     },
     "output_type": "display_data"
    }
   ],
   "source": [
    "plt.plot(x, normal(x, params[0][0], params[0][1]), color='r', label='Motion Cue Likelihood')\n",
    "plt.plot(x, normal(x, params[1][0], params[1][1]), color='g', label='Texture Cue Likelihood')\n",
    "# plot unnormalized posterior (which is the same as the product of the likelihoods)\n",
    "plt.plot(x, normal(x, 2, 2), color='grey', label='Prior')\n",
    "plt.plot(x, normal(x, 2, 2) * normal(x, params[0][0], params[0][1]) * normal(x, params[1][0], params[1][1]), color='b', label='Unnormalized Posterior')\n",
    "plt.legend()\n",
    "plt.show()"
   ]
  },
  {
   "cell_type": "code",
   "execution_count": 109,
   "metadata": {
    "ExecuteTime": {
     "end_time": "2022-10-20T05:33:50.476856Z",
     "start_time": "2022-10-20T05:33:50.469103Z"
    }
   },
   "outputs": [
    {
     "name": "stdout",
     "output_type": "stream",
     "text": [
      "0.01463745788108133\n"
     ]
    }
   ],
   "source": [
    "norm_wprior, err = quad(lambda x: normal(x, 2, 2) * normal(x, params[0][0], params[0][1]) * normal(x, params[1][0], params[1][1]), -np.inf, np.inf)\n",
    "print(norm_wprior)"
   ]
  },
  {
   "cell_type": "code",
   "execution_count": 110,
   "metadata": {
    "ExecuteTime": {
     "end_time": "2022-10-20T05:33:51.796032Z",
     "start_time": "2022-10-20T05:33:51.650486Z"
    }
   },
   "outputs": [
    {
     "data": {
      "image/png": "[encoded data removed]",
      "text/plain": [
       "<Figure size 432x288 with 1 Axes>"
      ]
     },
     "metadata": {
      "needs_background": "light"
     },
     "output_type": "display_data"
    }
   ],
   "source": [
    "plt.plot(x, normal(x, params[0][0], params[0][1]), color='r', label='Motion Cue Likelihood')\n",
    "plt.plot(x, normal(x, params[1][0], params[1][1]), color='g', label='Texture Cue Likelihood')\n",
    "# plot unnormalized posterior (which is the same as the product of the likelihoods)\n",
    "plt.plot(x, normal(x, 2, 2), color='grey', label='Prior')\n",
    "plt.plot(x, 1/norm_wprior * normal(x, 2, 2) * normal(x, params[0][0], params[0][1]) * normal(x, params[1][0], params[1][1]), color='b', label='Normalized Posterior')\n",
    "plt.legend()\n",
    "plt.show()"
   ]
  },
  {
   "cell_type": "markdown",
   "metadata": {},
   "source": [
    "# Conceptual Modelling"
   ]
  },
  {
   "cell_type": "markdown",
   "metadata": {},
   "source": [
    "$$\n",
    "\\begin{array}{l|l|l}\n",
    "\\hline \\text { Notation } & \\text { In Visual Space Paper } & \\text { In Lighthouse Illusion } \\\\\n",
    "\\hline P(I) \\text { Normalisation } & \\text { visual stimulus } & P\\left(\\alpha_n, R_n\\right) \\\\\n",
    "\\hline P(S) \\text { Prior } & \\text { physical scene } & P\\ (\\alpha, R) \\\\\n",
    "\\hline P(I \\mid S) \\text { Likelihood } & \\text { stimulus generated by the scene } & P\\left(\\alpha_n, R_n \\mid \\alpha, R\\right)=P(\\alpha_n \\mid \\alpha)P(R_n \\mid R) \\\\\n",
    "\\hline P(S \\mid I) \\text { Posterior } & \\text { physical sources S (true locations) underlying a visual stimulus}  & P\\left(\\alpha_n, \\alpha\\right) P\\left(R_n, R\\right) \\\\\n",
    "\\hline\n",
    "\\end{array}\n",
    "$$"
   ]
  },
  {
   "cell_type": "markdown",
   "metadata": {},
   "source": [
    "$$P(\\alpha, R | \\alpha_0, R_0) \n",
    "\\propto P(\\alpha_0, R_0 | \\alpha, R) P(\\alpha, R)\n",
    "                                                  = P(\\alpha_0|\\alpha) P(R_0|R) P(\\alpha,R)$$"
   ]
  },
  {
   "cell_type": "markdown",
   "metadata": {},
   "source": [
    "##  Prior"
   ]
  },
  {
   "cell_type": "markdown",
   "metadata": {},
   "source": [
    "### Pinhole Camera Model\n",
    "Source: https://github.com/JarnoRalli/python_camera_library/blob/main/cameralib.py"
   ]
  },
  {
   "cell_type": "code",
   "execution_count": 111,
   "metadata": {
    "ExecuteTime": {
     "end_time": "2022-10-25T07:48:06.916279Z",
     "start_time": "2022-10-25T07:48:06.903853Z"
    }
   },
   "outputs": [],
   "source": [
    "def homogenise(points: np.array):\n",
    "    \"\"\"Converts non-homogeneous 2D or 3D coordinates into homogeneous coordinates.\n",
    "    For example\n",
    "    [x1 x2 x3]    [x1 x2 x3]\n",
    "    [y1 y2 y3] -> [y1 y2 y3]\n",
    "                  [1  1  1]\n",
    "    Parameters\n",
    "    ----------\n",
    "    points : numpy.array, shape (dimensions, nr_points)\n",
    "    Returns\n",
    "    --------\n",
    "    points : numpy.array, shape (dimensions+1, nr_points)\n",
    "    \"\"\"\n",
    "\n",
    "    return np.concatenate((points, np.ones((1, points.shape[1]))), axis=0)\n",
    "\n",
    "def forwardprojectP(points: np.array, P: np.array, image_size, image=None):\n",
    "    \"\"\"\n",
    "    # Project 3D points, defined by [X Y Z]', onto an image plane defined by a 3x4 projection matrix P.\n",
    "    # Returns those 3D points that are withing the FOV of the camera (i.e. filters out those points\n",
    "      that are outside of the FOV), the corresponding uv-image coordinates, and a depth map.\n",
    "    \n",
    "    # Additionally, if an image is given, RGB for each 3D point is returned - None \n",
    "    \n",
    "    Parameters\n",
    "    ----------\n",
    "    points : numpy.array, shape (3, nr_points)\n",
    "    P : numpy array, shape (3, 4), Camera projection matrix P = K[R | t]\n",
    "        In our case, as camera is positioned in the center, \n",
    "        [R | t] = [1, 0, 0, 0]\n",
    "                  [0, 1, 0, 0]\n",
    "                  [0, 0, 1, 0]\n",
    "        K = [f, 0, px ]    [0.01,    0, 216]\n",
    "            [0, f, py ] => [   0, 0.01, 216] \n",
    "            [0, 0,  1 ]    [   0,    0,   1]\n",
    "                  \n",
    "    image_size : tuple\n",
    "            Image size, (512, 512)\n",
    "    image : numpy.array, optional\n",
    "            Image used for defining colors for each point (default is None).\n",
    "    \n",
    "    Returns\n",
    "    -------\n",
    "    Our Case:\n",
    "    (3D points, uv-coordinates, depth map) : numpy array\n",
    "        If no image is given (i.e. is None). Shapes are (3, nr_points), (3, nr_points) and (rows, cols)\n",
    "    (3D points, uv-coordinates, RGB, depth map) : numpy array\n",
    "        If image is given. Shapes are (3, nr_points), (3, nr_points), (3, nr_points) and (rows, cols)\n",
    "    \"\"\"\n",
    "\n",
    "    # Convert the image_size into a tuple. It might already be a tuple, but let's just make sure\n",
    "    image_size = (int(image_size[0]), int(image_size[1]))\n",
    "    depth_map = np.ones(image_size) * np.nan\n",
    "\n",
    "    try:\n",
    "        # Convert points into homogeneous form\n",
    "        points = homogenise(points)\n",
    "\n",
    "        # Project points to image\n",
    "        uv = np.matmul(P, points)\n",
    "\n",
    "        # Filter points that fall behind the camera\n",
    "        mask = uv[2, :] < 0.0\n",
    "        uv = uv[:, ~mask]\n",
    "        points = points[:, ~mask]\n",
    "\n",
    "        # Normalize coordinates\n",
    "        uv[0, :] /= uv[2, :]\n",
    "        uv[1, :] /= uv[2, :]\n",
    "        uv[2, :] /= uv[2, :]\n",
    "\n",
    "        # Mask out points that don't fall withing the given image (i.e. are outside of FOV)\n",
    "        mask = (uv[0, :] < 0) | (uv[0, :] > (image_size[1] - 1)) | (uv[1, :] < 0) | (uv[1, :] > (image_size[0] - 1))\n",
    "        points = points[:, ~mask]\n",
    "        uv = uv[:, ~mask]\n",
    "        \n",
    "#         print(np.round(uv[1, :]).astype(int))\n",
    "        \n",
    "        # Generate a depth map\n",
    "        depth_map[np.round(uv[1, :]).astype(int), np.round(uv[0, :]).astype(int)] = points[2, :]\n",
    "\n",
    "        # Handle colors, if given\n",
    "        if image is None:\n",
    "            return points[:3, :], uv, depth_map\n",
    "        else:\n",
    "            RGB = image[np.round(uv[1, :]).astype(int), np.round(uv[0, :]).astype(int), :]\n",
    "            return points[:3, :], uv, RGB, depth_map\n",
    "    except Exception as e:\n",
    "        raise"
   ]
  },
  {
   "cell_type": "markdown",
   "metadata": {},
   "source": [
    "$P(S)$\n",
    "\n",
    "simple model in which ***1,000*** planar rectangular surfaces were uniformly placed at distances of ***2.5–300*** m, from ***150*** m left to ***150*** m right, and from the ground to ***25 m*** above the ground (which was 1.65 m below the image center). \n",
    "\n",
    "The sizes of these uniformly distributed surfaces ranged from ***0.2 to 18*** m. Five-hundred ***512 × 512*** images of this model made by a pinhole camera method showed statistical behavior similar to that derived from the range image database for a wide variety of specific values, although with different slopes and modes. \n",
    "    \n",
    "The ***2.5-m cut-off*** models the presumed tendency of observers to keep physical objects some distance away"
   ]
  },
  {
   "cell_type": "markdown",
   "metadata": {},
   "source": [
    "- 1000 simulations \n",
    "- 500 surfaces\n",
    "- size of surface U(0.2, 18) \n",
    "- horizontal position U(0, 300) \n",
    "- vertical position U(0, 25) \n",
    "- distance U(2.5, 300)"
   ]
  },
  {
   "cell_type": "markdown",
   "metadata": {},
   "source": [
    "### One Snapshot"
   ]
  },
  {
   "cell_type": "code",
   "execution_count": 112,
   "metadata": {
    "ExecuteTime": {
     "end_time": "2022-10-25T06:45:58.799878Z",
     "start_time": "2022-10-25T06:45:58.788662Z"
    }
   },
   "outputs": [],
   "source": [
    "scene_distance = list()\n",
    "\n",
    "NUM_SURFACES = 500\n",
    "# the dimensionalities of possible locations of the simulated surfaces\n",
    "DIM_X = 300 \n",
    "DIM_Y = 25\n",
    "\n",
    "# the x-coord, y-coord, distance of each simulated surface\n",
    "# we store 2 points (left top and right bottom corners) for each surface, use two matrices accordingly\n",
    "simulations_left_top = np.empty(shape=(3, NUM_SURFACES))\n",
    "simulations_right_bottom = np.empty(shape=(3, NUM_SURFACES))\n",
    "\n",
    "for i in range(500):\n",
    "    size = np.random.randint(0.2, 18)\n",
    "    \n",
    "    # CK: because you don't want the rectangles to go underneath the ground, might be better to sample the midpoint of the bottom edge of each rectangle\n",
    "    # coordinates of the simulated surface center\n",
    "    coord_x = random.uniform(0, DIM_X + 1)\n",
    "    coord_x = random.uniform(-150, 150 + 1) # CK: shouldn't x-coordinates be between -150 and 150?\n",
    "    \n",
    "    coord_y = random.uniform(0, DIM_Y + 1) # CK: for Yang and Purves the camera is at a height of 1.65 m. I think we should put the camera at the origin (height 0) and adjust the simulation so that the \"ground\" is at -1.65 m\n",
    "    \n",
    "    # store the (x, y) of the left top and right bottom corners of the surface to locate.\n",
    "    left_top_x = coord_x - size/2\n",
    "    left_top_y = coord_y + size/2\n",
    "    \n",
    "    right_bottom_x = coord_x + size/2\n",
    "    right_bottom_y = coord_y - size/2\n",
    "    \n",
    "    distance = random.uniform(0.2, 18 + 1)\n",
    "    distance = random.uniform(2.5, 300 + 1)  # CK: shouldn't distances be between 2.5 and 300 m?\n",
    "    \n",
    "    simulations_left_top[0][i] = left_top_x\n",
    "    simulations_left_top[1][i] = left_top_y\n",
    "    simulations_left_top[2][i] = distance\n",
    "    \n",
    "    simulations_right_bottom[0][i] = right_bottom_x\n",
    "    simulations_right_bottom[1][i] = right_bottom_y\n",
    "    simulations_right_bottom[2][i] = distance\n",
    "    "
   ]
  },
  {
   "cell_type": "code",
   "execution_count": 113,
   "metadata": {
    "ExecuteTime": {
     "end_time": "2022-10-25T07:04:48.098827Z",
     "start_time": "2022-10-25T07:04:48.094280Z"
    }
   },
   "outputs": [
    {
     "data": {
      "text/plain": [
       "array([[-49.81050781, 101.25479898, -92.06361542, ...,  40.76395312,\n",
       "        -68.25292084,   9.35189094],\n",
       "       [ 10.2547094 ,  22.04114777,  14.31722203, ...,  19.18634794,\n",
       "          7.79821398,   6.62206218],\n",
       "       [ 22.81563613,  79.36391535, 142.65202603, ..., 266.31131213,\n",
       "         65.53524557,  17.70768552]])"
      ]
     },
     "execution_count": 113,
     "metadata": {},
     "output_type": "execute_result"
    }
   ],
   "source": [
    "simulations_left_top"
   ]
  },
  {
   "cell_type": "code",
   "execution_count": 114,
   "metadata": {
    "ExecuteTime": {
     "end_time": "2022-10-25T07:59:13.452378Z",
     "start_time": "2022-10-25T07:59:13.447752Z"
    }
   },
   "outputs": [],
   "source": [
    "# Projection Matrix \n",
    "f = 1\n",
    "f = 256 # CK: I think we can treat f, px and py as having the same units\n",
    "px = 256\n",
    "py = 256\n",
    "K = np.array([(f, 0, px), \n",
    "              (0, f, py),\n",
    "              (0, 0,  1)])\n",
    "\n",
    "# no rotation and translation\n",
    "R_t = np.array([(1, 0, 0, 0), \n",
    "                (0, 1, 0, 0),\n",
    "                (0, 0, 1, 0)])\n",
    "\n",
    "P = np.matmul(K, R_t)"
   ]
  },
  {
   "cell_type": "code",
   "execution_count": 115,
   "metadata": {
    "ExecuteTime": {
     "end_time": "2022-10-25T07:59:20.413209Z",
     "start_time": "2022-10-25T07:59:17.608839Z"
    }
   },
   "outputs": [
    {
     "name": "stdout",
     "output_type": "stream",
     "text": [
      "(3, 374)\n"
     ]
    }
   ],
   "source": [
    "original, projected, depth = forwardprojectP(simulations_left_top, P, (512, 512))\n",
    "\n",
    "#for i in range(512):\n",
    "    #print(depth[i])\n",
    "    \n",
    "print(np.shape(projected))\n",
    "\n",
    "# Output: (Original, Projected, Depth)"
   ]
  },
  {
   "cell_type": "markdown",
   "metadata": {},
   "source": [
    "### Prior Distribution for each angle"
   ]
  },
  {
   "cell_type": "code",
   "execution_count": null,
   "metadata": {},
   "outputs": [],
   "source": []
  },
  {
   "cell_type": "markdown",
   "metadata": {},
   "source": [
    "### Combined with the Likelihood"
   ]
  },
  {
   "cell_type": "code",
   "execution_count": null,
   "metadata": {},
   "outputs": [],
   "source": []
  }
 ],
 "metadata": {
  "hide_input": false,
  "kernelspec": {
   "display_name": "Python 3",
   "language": "python",
   "name": "python3"
  },
  "language_info": {
   "codemirror_mode": {
    "name": "ipython",
    "version": 3
   },
   "file_extension": ".py",
   "mimetype": "text/x-python",
   "name": "python",
   "nbconvert_exporter": "python",
   "pygments_lexer": "ipython3",
   "version": "3.7.7"
  },
  "latex_envs": {
   "LaTeX_envs_menu_present": true,
   "autoclose": false,
   "autocomplete": true,
   "bibliofile": "biblio.bib",
   "cite_by": "apalike",
   "current_citInitial": 1,
   "eqLabelWithNumbers": true,
   "eqNumInitial": 1,
   "hotkeys": {
    "equation": "Ctrl-E",
    "itemize": "Ctrl-I"
   },
   "labels_anchors": false,
   "latex_user_defs": false,
   "report_style_numbering": false,
   "user_envs_cfg": false
  },
  "toc": {
   "base_numbering": 1,
   "nav_menu": {},
   "number_sections": true,
   "sideBar": true,
   "skip_h1_title": false,
   "title_cell": "Table of Contents",
   "title_sidebar": "Contents",
   "toc_cell": false,
   "toc_position": {
    "height": "calc(100% - 180px)",
    "left": "10px",
    "top": "150px",
    "width": "238px"
   },
   "toc_section_display": true,
   "toc_window_display": true
  },
  "varInspector": {
   "cols": {
    "lenName": 16,
    "lenType": 16,
    "lenVar": 40
   },
   "kernels_config": {
    "python": {
     "delete_cmd_postfix": "",
     "delete_cmd_prefix": "del ",
     "library": "var_list.py",
     "varRefreshCmd": "print(var_dic_list())"
    },
    "r": {
     "delete_cmd_postfix": ") ",
     "delete_cmd_prefix": "rm(",
     "library": "var_list.r",
     "varRefreshCmd": "cat(var_dic_list()) "
    }
   },
   "types_to_exclude": [
    "module",
    "function",
    "builtin_function_or_method",
    "instance",
    "_Feature"
   ],
   "window_display": false
  }
 },
 "nbformat": 4,
 "nbformat_minor": 5
}
