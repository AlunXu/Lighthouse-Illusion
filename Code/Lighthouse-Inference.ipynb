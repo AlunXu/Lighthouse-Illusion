{
 "cells": [
  {
   "cell_type": "code",
   "execution_count": 11,
   "id": "ad8b2c5e",
   "metadata": {
    "ExecuteTime": {
     "end_time": "2023-01-08T06:43:31.496397Z",
     "start_time": "2023-01-08T06:43:27.492911Z"
    }
   },
   "outputs": [],
   "source": [
    "import numpy as np\n",
    "import sys\n",
    "import os\n",
    "import math\n",
    "import pandas as pd\n",
    "import torch\n",
    "import seaborn as sns\n",
    "import matplotlib.pyplot as plt\n",
    "from collections import defaultdict\n",
    "np.set_printoptions(threshold=sys.maxsize) # show full ndarray\n",
    "from IPython.core.interactiveshell import InteractiveShell\n",
    "InteractiveShell.ast_node_interactivity = \"all\""
   ]
  },
  {
   "cell_type": "markdown",
   "id": "31bf6903",
   "metadata": {},
   "source": [
    "# Inference"
   ]
  },
  {
   "cell_type": "markdown",
   "id": "c4e0897c",
   "metadata": {},
   "source": [
    "## Static: reason for the bent down beam"
   ]
  },
  {
   "cell_type": "code",
   "execution_count": 27,
   "id": "c62846d5",
   "metadata": {
    "ExecuteTime": {
     "end_time": "2023-01-10T00:35:41.465432Z",
     "start_time": "2023-01-10T00:35:41.431844Z"
    }
   },
   "outputs": [],
   "source": [
    "def normal(x, mu, sigma):\n",
    "    p = 1 / math.sqrt(2 * math.pi * sigma**2)\n",
    "    return p * np.exp(-0.5 / sigma**2 * (x - mu)**2)"
   ]
  },
  {
   "cell_type": "markdown",
   "id": "def51b78",
   "metadata": {},
   "source": [
    "**Likelihood**"
   ]
  },
  {
   "cell_type": "code",
   "execution_count": 105,
   "id": "4ef7ccd4",
   "metadata": {
    "ExecuteTime": {
     "end_time": "2023-01-10T02:45:03.578666Z",
     "start_time": "2023-01-10T02:45:03.576390Z"
    }
   },
   "outputs": [],
   "source": [
    "nsample = 20\n",
    "sample_start = 15\n",
    "sample_end = 300\n",
    "height = 30\n",
    "F = 256"
   ]
  },
  {
   "cell_type": "code",
   "execution_count": 106,
   "id": "c18f5575",
   "metadata": {
    "ExecuteTime": {
     "end_time": "2023-01-10T02:45:04.627390Z",
     "start_time": "2023-01-10T02:45:04.461446Z"
    }
   },
   "outputs": [
    {
     "data": {
      "text/plain": [
       "<AxesSubplot:xlabel='Distance', ylabel='Height'>"
      ]
     },
     "execution_count": 106,
     "metadata": {},
     "output_type": "execute_result"
    },
    {
     "data": {
      "image/png": "[encoded data removed]",
      "text/plain": [
       "<Figure size 432x288 with 1 Axes>"
      ]
     },
     "metadata": {
      "needs_background": "light"
     },
     "output_type": "display_data"
    }
   ],
   "source": [
    "# Physical Beam\n",
    "beam_samples = np.array(list(range(sample_start, sample_end+1, 15)))\n",
    "phy_height = np.array([height] * nsample)\n",
    "\n",
    "phy_beam = np.append(phy_height[:, None], beam_samples[:, None], axis=1)\n",
    "column_values = ['Height', 'Distance']\n",
    "phy_beam_df = pd.DataFrame(data = phy_beam, columns = column_values)\n",
    "sns.scatterplot(data = phy_beam_df, x=\"Distance\", y=\"Height\")"
   ]
  },
  {
   "cell_type": "code",
   "execution_count": 107,
   "id": "9ee87e78",
   "metadata": {
    "ExecuteTime": {
     "end_time": "2023-01-10T02:45:21.041381Z",
     "start_time": "2023-01-10T02:45:21.035137Z"
    }
   },
   "outputs": [],
   "source": [
    "# find the angles that are corresponding to the samples \n",
    "angles_phy = np.arctan(phy_height / beam_samples)\n",
    "height = np.array(range(512))\n",
    "angles_pri = np.arctan((height - F + 0.5) / F)\n",
    "\n",
    "angles_index = list()\n",
    "angles = list()\n",
    "for angle in angles_phy:\n",
    "    closest = min(angles_pri, key=lambda x:abs(x-angle))\n",
    "    angles_index.append(list(angles_pri).index(closest))\n",
    "    angles.append(closest)"
   ]
  },
  {
   "cell_type": "code",
   "execution_count": 108,
   "id": "2991139b",
   "metadata": {
    "ExecuteTime": {
     "end_time": "2023-01-10T02:45:23.535348Z",
     "start_time": "2023-01-10T02:45:23.528986Z"
    }
   },
   "outputs": [
    {
     "data": {
      "text/plain": [
       "[0.784420646602251,\n",
       " 0.784420646602251,\n",
       " 0.5875517469505239,\n",
       " 0.46520888798202265,\n",
       " 0.38084307743634166,\n",
       " 0.32233637741105564,\n",
       " 0.2795889826846903,\n",
       " 0.24681605196410286,\n",
       " 0.21722087075867874,\n",
       " 0.1985221083781903,\n",
       " 0.17968161942290928,\n",
       " 0.16451516467074306,\n",
       " 0.15308959839910466,\n",
       " 0.14162360642940994,\n",
       " 0.13395854083353742,\n",
       " 0.12627760693388676,\n",
       " 0.11858166441717731,\n",
       " 0.11087158344285233,\n",
       " 0.1031482440926689,\n",
       " 0.09928188012599641]"
      ]
     },
     "execution_count": 108,
     "metadata": {},
     "output_type": "execute_result"
    }
   ],
   "source": [
    "angles"
   ]
  },
  {
   "cell_type": "markdown",
   "id": "4ace94a9",
   "metadata": {},
   "source": [
    "**Prior**"
   ]
  },
  {
   "cell_type": "code",
   "execution_count": 134,
   "id": "4de056d5",
   "metadata": {
    "ExecuteTime": {
     "end_time": "2023-01-10T04:14:29.443708Z",
     "start_time": "2023-01-10T04:14:29.367347Z"
    }
   },
   "outputs": [],
   "source": [
    "# the prior in the middle strip. i.e. the head is facing straight.\n",
    "with np.load('prior_middle.npz') as npz:\n",
    "    prior_middle = np.ma.MaskedArray(**npz)"
   ]
  },
  {
   "cell_type": "markdown",
   "id": "6dbc2412",
   "metadata": {},
   "source": [
    "**Posterior**"
   ]
  },
  {
   "cell_type": "markdown",
   "id": "253840ec",
   "metadata": {},
   "source": [
    "$E[p(d\\mid o)] = \\int d P(d \\mid o) = \\int d \\dfrac{p(o \\mid d)p(d)}{p(d)p(o)}p(d) \\approx \\sum d \\dfrac{p(o \\mid d)}{p(o)}$\n",
    "\n",
    "where \\\n",
    "$P(o \\mid d_i) \\sim N(d_i, \\sigma^2)$, and $p(o)=\\Sigma_i p(o \\mid d_i)p(d_i)$"
   ]
  },
  {
   "cell_type": "code",
   "execution_count": 135,
   "id": "e1f98480",
   "metadata": {
    "ExecuteTime": {
     "end_time": "2023-01-10T04:14:32.946881Z",
     "start_time": "2023-01-10T04:14:32.406911Z"
    }
   },
   "outputs": [
    {
     "name": "stdout",
     "output_type": "stream",
     "text": [
      "=============\n",
      "when physical distance is at 15 , the P(o) is: --\n",
      "the approximated posterior mean is --\n",
      "=============\n",
      "when physical distance is at 30 , the P(o) is: --\n"
     ]
    },
    {
     "name": "stderr",
     "output_type": "stream",
     "text": [
      "/var/folders/2h/6xl9zzd51h753mb206k2zn4r0000gn/T/ipykernel_32137/2788988165.py:15: RuntimeWarning: divide by zero encountered in divide\n",
      "  posterior_mean += prior[j] * normal(distance_phy, prior[j], variance) / observed_prob\n"
     ]
    },
    {
     "name": "stdout",
     "output_type": "stream",
     "text": [
      "the approximated posterior mean is --\n",
      "=============\n",
      "when physical distance is at 45 , the P(o) is: 0.005125543053750072\n",
      "the approximated posterior mean is 14545.418544647175\n",
      "=============\n",
      "when physical distance is at 60 , the P(o) is: 0.0013164670537404806\n",
      "the approximated posterior mean is 17270.333583398256\n",
      "=============\n",
      "when physical distance is at 75 , the P(o) is: 0.00021790339234551006\n",
      "the approximated posterior mean is 20056.132193967165\n",
      "=============\n",
      "when physical distance is at 90 , the P(o) is: 2.780374778359655e-05\n",
      "the approximated posterior mean is 25104.08106392839\n",
      "=============\n",
      "when physical distance is at 105 , the P(o) is: 2.526832165985258e-06\n",
      "the approximated posterior mean is 31144.679530688103\n",
      "=============\n",
      "when physical distance is at 120 , the P(o) is: 1.193962023775463e-07\n",
      "the approximated posterior mean is 32097.518924749587\n",
      "=============\n",
      "when physical distance is at 135 , the P(o) is: 6.651273808914917e-09\n",
      "the approximated posterior mean is 39453.608391642796\n",
      "=============\n",
      "when physical distance is at 150 , the P(o) is: 1.7857544660161907e-10\n",
      "the approximated posterior mean is 40939.300262621946\n",
      "=============\n",
      "when physical distance is at 165 , the P(o) is: 1.7809355187006593e-12\n",
      "the approximated posterior mean is 39627.28193771311\n",
      "=============\n",
      "when physical distance is at 180 , the P(o) is: 5.6278383879876786e-12\n",
      "the approximated posterior mean is 69981.10273173681\n",
      "=============\n",
      "when physical distance is at 195 , the P(o) is: 6.620476184746753e-14\n",
      "the approximated posterior mean is 69900.37809014953\n",
      "=============\n",
      "when physical distance is at 210 , the P(o) is: 4.4250889394569797e-16\n",
      "the approximated posterior mean is 69770.19639703473\n",
      "=============\n",
      "when physical distance is at 225 , the P(o) is: 1.693337629916343e-18\n",
      "the approximated posterior mean is 69724.57138031787\n",
      "=============\n",
      "when physical distance is at 240 , the P(o) is: 3.521862996700345e-21\n",
      "the approximated posterior mean is 69591.65518057712\n",
      "=============\n",
      "when physical distance is at 255 , the P(o) is: 3.171441917749515e-24\n",
      "the approximated posterior mean is 68786.27594250368\n",
      "=============\n",
      "when physical distance is at 270 , the P(o) is: 2.2880262529738522e-27\n",
      "the approximated posterior mean is 68401.20539245519\n",
      "=============\n",
      "when physical distance is at 285 , the P(o) is: 8.55752822582736e-31\n",
      "the approximated posterior mean is 68537.21994651583\n",
      "=============\n",
      "when physical distance is at 300 , the P(o) is: 1.998670991051432e-34\n",
      "the approximated posterior mean is 68671.30669729227\n"
     ]
    }
   ],
   "source": [
    "variance = 20\n",
    "posterior_means = list()\n",
    "# for each distance sample (observed distance o) on the beam\n",
    "for i in range(len(beam_samples)): \n",
    "    distance_phy = beam_samples[i]\n",
    "    prior = prior_middle[angles_index[i]] / np.cos(angles[i]) # transform to radial distance\n",
    "    # for each prior snapshot (inferred distance d)\n",
    "    observed_prob = 0\n",
    "    for j in range(1000):\n",
    "        observed_prob += normal(distance_phy, prior[j], variance) * 1/1000\n",
    "    print(\"=============\")\n",
    "    print(\"when physical distance is at\", beam_samples[i], \", the P(o) is:\", observed_prob)\n",
    "    posterior_mean = 0    \n",
    "    for j in range(1000):\n",
    "        posterior_mean += prior[j] * normal(distance_phy, prior[j], variance) / observed_prob \n",
    "    print(\"the approximated posterior mean is\", posterior_mean)\n",
    "    posterior_means.append(posterior_mean)\n",
    "# print(posterior_means)"
   ]
  }
 ],
 "metadata": {
  "hide_input": false,
  "kernelspec": {
   "display_name": "Python 3 (ipykernel)",
   "language": "python",
   "name": "python3"
  },
  "language_info": {
   "codemirror_mode": {
    "name": "ipython",
    "version": 3
   },
   "file_extension": ".py",
   "mimetype": "text/x-python",
   "name": "python",
   "nbconvert_exporter": "python",
   "pygments_lexer": "ipython3",
   "version": "3.9.7"
  },
  "latex_envs": {
   "LaTeX_envs_menu_present": true,
   "autoclose": false,
   "autocomplete": true,
   "bibliofile": "biblio.bib",
   "cite_by": "apalike",
   "current_citInitial": 1,
   "eqLabelWithNumbers": true,
   "eqNumInitial": 1,
   "hotkeys": {
    "equation": "Ctrl-E",
    "itemize": "Ctrl-I"
   },
   "labels_anchors": false,
   "latex_user_defs": false,
   "report_style_numbering": false,
   "user_envs_cfg": false
  },
  "toc": {
   "base_numbering": 1,
   "nav_menu": {},
   "number_sections": true,
   "sideBar": true,
   "skip_h1_title": false,
   "title_cell": "Table of Contents",
   "title_sidebar": "Contents",
   "toc_cell": false,
   "toc_position": {},
   "toc_section_display": true,
   "toc_window_display": false
  },
  "varInspector": {
   "cols": {
    "lenName": 16,
    "lenType": 16,
    "lenVar": 40
   },
   "kernels_config": {
    "python": {
     "delete_cmd_postfix": "",
     "delete_cmd_prefix": "del ",
     "library": "var_list.py",
     "varRefreshCmd": "print(var_dic_list())"
    },
    "r": {
     "delete_cmd_postfix": ") ",
     "delete_cmd_prefix": "rm(",
     "library": "var_list.r",
     "varRefreshCmd": "cat(var_dic_list()) "
    }
   },
   "oldHeight": 551.852,
   "position": {
    "height": "640.852px",
    "left": "1327px",
    "right": "20px",
    "top": "140px",
    "width": "473px"
   },
   "types_to_exclude": [
    "module",
    "function",
    "builtin_function_or_method",
    "instance",
    "_Feature"
   ],
   "varInspector_section_display": "block",
   "window_display": false
  }
 },
 "nbformat": 4,
 "nbformat_minor": 5
}
