{
 "cells": [
  {
   "cell_type": "code",
   "execution_count": 4,
   "id": "ad8b2c5e",
   "metadata": {
    "ExecuteTime": {
     "end_time": "2023-01-08T06:43:31.496397Z",
     "start_time": "2023-01-08T06:43:27.492911Z"
    }
   },
   "outputs": [],
   "source": [
    "import numpy as np\n",
    "import sys\n",
    "import os\n",
    "import math\n",
    "import pandas as pd\n",
    "#import torch\n",
    "import seaborn as sns\n",
    "import matplotlib.pyplot as plt\n",
    "from collections import defaultdict\n",
    "np.set_printoptions(threshold=sys.maxsize) # show full ndarray\n",
    "from IPython.core.interactiveshell import InteractiveShell\n",
    "InteractiveShell.ast_node_interactivity = \"all\""
   ]
  },
  {
   "cell_type": "markdown",
   "id": "31bf6903",
   "metadata": {},
   "source": [
    "# Inference"
   ]
  },
  {
   "cell_type": "markdown",
   "id": "c4e0897c",
   "metadata": {},
   "source": [
    "## Static: reason for the bent down beam"
   ]
  },
  {
   "cell_type": "code",
   "execution_count": 22,
   "id": "c62846d5",
   "metadata": {
    "ExecuteTime": {
     "end_time": "2023-01-10T00:35:41.465432Z",
     "start_time": "2023-01-10T00:35:41.431844Z"
    }
   },
   "outputs": [],
   "source": [
    "def normal(x, mu, sigma):\n",
    "    p = 1 / math.sqrt(2 * math.pi * sigma**2)\n",
    "    return 1\n",
    "    #return p * np.exp(-0.5 / sigma**2 * (x - mu)**2)"
   ]
  },
  {
   "cell_type": "markdown",
   "id": "def51b78",
   "metadata": {},
   "source": [
    "**Likelihood**"
   ]
  },
  {
   "cell_type": "code",
   "execution_count": 6,
   "id": "4ef7ccd4",
   "metadata": {
    "ExecuteTime": {
     "end_time": "2023-01-10T02:45:03.578666Z",
     "start_time": "2023-01-10T02:45:03.576390Z"
    }
   },
   "outputs": [],
   "source": [
    "nsample = 20\n",
    "sample_start = 15\n",
    "sample_end = 300\n",
    "height = 30\n",
    "F = 256"
   ]
  },
  {
   "cell_type": "code",
   "execution_count": 9,
   "id": "c18f5575",
   "metadata": {
    "ExecuteTime": {
     "end_time": "2023-01-10T02:45:04.627390Z",
     "start_time": "2023-01-10T02:45:04.461446Z"
    }
   },
   "outputs": [
    {
     "data": {
      "text/plain": [
       "<AxesSubplot:xlabel='Distance', ylabel='Height'>"
      ]
     },
     "execution_count": 9,
     "metadata": {},
     "output_type": "execute_result"
    },
    {
     "data": {
      "image/png": "[encoded data removed]",
      "text/plain": [
       "<Figure size 432x288 with 1 Axes>"
      ]
     },
     "metadata": {
      "needs_background": "light"
     },
     "output_type": "display_data"
    }
   ],
   "source": [
    "# Physical Beam\n",
    "beam_depths = np.array(list(range(sample_start, sample_end+1, 15)))\n",
    "beam_samples = np.sqrt(beam_depths**2 + height**2)  # radial distances for points on beam\n",
    "phy_height = np.array([height] * nsample)\n",
    "\n",
    "phy_beam = np.append(phy_height[:, None], beam_samples[:, None], axis=1)\n",
    "column_values = ['Height', 'Distance']\n",
    "phy_beam_df = pd.DataFrame(data = phy_beam, columns = column_values)\n",
    "sns.scatterplot(data = phy_beam_df, x=\"Distance\", y=\"Height\")"
   ]
  },
  {
   "cell_type": "code",
   "execution_count": 15,
   "id": "9ee87e78",
   "metadata": {
    "ExecuteTime": {
     "end_time": "2023-01-10T02:45:21.041381Z",
     "start_time": "2023-01-10T02:45:21.035137Z"
    }
   },
   "outputs": [],
   "source": [
    "# find the angles that are corresponding to the samples \n",
    "angles_phy = np.arctan(phy_height / beam_depths)\n",
    "height = np.array(range(512))\n",
    "angles_pri = np.arctan((height - F + 0.5) / F)\n",
    "\n",
    "angles_index = list()\n",
    "angles = list()\n",
    "for angle in angles_phy:\n",
    "    closest = min(angles_pri, key=lambda x:abs(x-angle))\n",
    "    angles_index.append(list(angles_pri).index(closest))\n",
    "    angles.append(closest)"
   ]
  },
  {
   "cell_type": "code",
   "execution_count": 12,
   "id": "2991139b",
   "metadata": {
    "ExecuteTime": {
     "end_time": "2023-01-10T02:45:23.535348Z",
     "start_time": "2023-01-10T02:45:23.528986Z"
    }
   },
   "outputs": [
    {
     "data": {
      "text/plain": [
       "[0.7286994529784703,\n",
       " 0.6167303302937971,\n",
       " 0.5079272792730298,\n",
       " 0.42057769235993514,\n",
       " 0.3570572429475673,\n",
       " 0.3046632370681827,\n",
       " 0.2687293355778861,\n",
       " 0.23945639988793785,\n",
       " 0.21349300865926615,\n",
       " 0.19476497591399516,\n",
       " 0.17589755207658497,\n",
       " 0.16451516467074306,\n",
       " 0.14927195504006044,\n",
       " 0.14162360642940994,\n",
       " 0.13012000394304876,\n",
       " 0.12243145760678886,\n",
       " 0.11472833645809238,\n",
       " 0.11087158344285233,\n",
       " 0.1031482440926689,\n",
       " 0.09928188012599641]"
      ]
     },
     "execution_count": 12,
     "metadata": {},
     "output_type": "execute_result"
    }
   ],
   "source": [
    "angles"
   ]
  },
  {
   "cell_type": "markdown",
   "id": "4ace94a9",
   "metadata": {},
   "source": [
    "**Prior**"
   ]
  },
  {
   "cell_type": "code",
   "execution_count": 24,
   "id": "4de056d5",
   "metadata": {
    "ExecuteTime": {
     "end_time": "2023-01-10T04:14:29.443708Z",
     "start_time": "2023-01-10T04:14:29.367347Z"
    }
   },
   "outputs": [],
   "source": [
    "# the prior in the middle strip. i.e. the head is facing straight.\n",
    "with np.load('prior_middle.npz') as npz:\n",
    "    prior_middle = np.ma.MaskedArray(**npz)"
   ]
  },
  {
   "cell_type": "markdown",
   "id": "6dbc2412",
   "metadata": {},
   "source": [
    "**Posterior**"
   ]
  },
  {
   "cell_type": "markdown",
   "id": "253840ec",
   "metadata": {},
   "source": [
    "$E[p(d\\mid o)] = \\int d P(d \\mid o) = \\int d \\dfrac{p(o \\mid d)p(d)}{p(o)} \\approx \\sum d \\dfrac{p(o \\mid d)}{p(o)}$\n",
    "\n",
    "where \\\n",
    "$P(o \\mid d_i) \\sim N(d_i, \\sigma^2)$, and $p(o)=\\Sigma_i p(o \\mid d_i)p(d_i)$"
   ]
  },
  {
   "cell_type": "code",
   "execution_count": 23,
   "id": "e1f98480",
   "metadata": {
    "ExecuteTime": {
     "end_time": "2023-01-10T04:14:32.946881Z",
     "start_time": "2023-01-10T04:14:32.406911Z"
    }
   },
   "outputs": [
    {
     "name": "stdout",
     "output_type": "stream",
     "text": [
      "=============\n",
      "when physical distance is at 33.54101966249684 , the P(o) is: 1.0000000000000007\n",
      "the approximated posterior mean is --\n",
      "=============\n",
      "when physical distance is at 42.42640687119285 , the P(o) is: 1.0000000000000007\n",
      "the approximated posterior mean is --\n",
      "=============\n",
      "when physical distance is at 54.08326913195984 , the P(o) is: 1.0000000000000007\n",
      "the approximated posterior mean is 11.14019551849364\n",
      "=============\n",
      "when physical distance is at 67.08203932499369 , the P(o) is: 1.0000000000000007\n",
      "the approximated posterior mean is 11.234400669574734\n",
      "=============\n",
      "when physical distance is at 80.77747210701756 , the P(o) is: 1.0000000000000007\n",
      "the approximated posterior mean is 11.407939600467671\n",
      "=============\n",
      "when physical distance is at 94.86832980505137 , the P(o) is: 1.0000000000000007\n",
      "the approximated posterior mean is 11.869041702747335\n",
      "=============\n",
      "when physical distance is at 109.20164833920778 , the P(o) is: 1.0000000000000007\n",
      "the approximated posterior mean is 12.288912070512767\n",
      "=============\n",
      "when physical distance is at 123.69316876852982 , the P(o) is: 1.0000000000000007\n",
      "the approximated posterior mean is 12.65206072258949\n",
      "=============\n",
      "when physical distance is at 138.2931668593933 , the P(o) is: 1.0000000000000007\n",
      "the approximated posterior mean is 13.152894160985943\n",
      "=============\n",
      "when physical distance is at 152.97058540778355 , the P(o) is: 1.0000000000000007\n",
      "the approximated posterior mean is 13.519898918867106\n",
      "=============\n",
      "when physical distance is at 167.70509831248424 , the P(o) is: 1.0000000000000007\n",
      "the approximated posterior mean is 13.801496683835992\n",
      "=============\n",
      "when physical distance is at 182.4828759089466 , the P(o) is: 1.0000000000000007\n",
      "the approximated posterior mean is 14.159669159889217\n",
      "=============\n",
      "when physical distance is at 197.29419656948858 , the P(o) is: 1.0000000000000007\n",
      "the approximated posterior mean is 14.458956005573254\n",
      "=============\n",
      "when physical distance is at 212.13203435596427 , the P(o) is: 1.0000000000000007\n",
      "the approximated posterior mean is 14.85113503432272\n",
      "=============\n",
      "when physical distance is at 226.99118925632334 , the P(o) is: 1.0000000000000007\n",
      "the approximated posterior mean is 15.09464188957213\n",
      "=============\n",
      "when physical distance is at 241.8677324489565 , the P(o) is: 1.0000000000000007\n",
      "the approximated posterior mean is 15.319420584678635\n",
      "=============\n",
      "when physical distance is at 256.7586415293554 , the P(o) is: 1.0000000000000007\n",
      "the approximated posterior mean is 15.580076060056678\n",
      "=============\n",
      "when physical distance is at 271.6615541441225 , the P(o) is: 1.0000000000000007\n",
      "the approximated posterior mean is 15.93826328468322\n",
      "=============\n",
      "when physical distance is at 286.574597618142 , the P(o) is: 1.0000000000000007\n",
      "the approximated posterior mean is 16.066566376447692\n",
      "=============\n",
      "when physical distance is at 301.4962686336267 , the P(o) is: 1.0000000000000007\n",
      "the approximated posterior mean is 16.210843492507905\n"
     ]
    }
   ],
   "source": [
    "variance = 20\n",
    "posterior_means = list()\n",
    "# for each distance sample (observed distance o) on the beam\n",
    "for i in range(len(beam_samples)): \n",
    "    distance_phy = beam_samples[i]\n",
    "    prior = prior_middle[angles_index[i]] / np.cos(angles[i]) # transform to radial distance\n",
    "    # for each prior snapshot (inferred distance d)\n",
    "    observed_prob = 0\n",
    "    for j in range(1000):\n",
    "        observed_prob += normal(distance_phy, prior[j], variance) * 1/1000\n",
    "    print(\"=============\")\n",
    "    print(\"when physical distance is at\", beam_samples[i], \", the P(o) is:\", observed_prob)\n",
    "    posterior_mean = 0    \n",
    "    for j in range(1000):\n",
    "        posterior_mean += prior[j] * normal(distance_phy, prior[j], variance) * (1/1000) / observed_prob \n",
    "    print(\"the approximated posterior mean is\", posterior_mean)\n",
    "    posterior_means.append(posterior_mean)\n",
    "# print(posterior_means)"
   ]
  }
 ],
 "metadata": {
  "hide_input": false,
  "kernelspec": {
   "display_name": "Python 3 (ipykernel)",
   "language": "python",
   "name": "python3"
  },
  "language_info": {
   "codemirror_mode": {
    "name": "ipython",
    "version": 3
   },
   "file_extension": ".py",
   "mimetype": "text/x-python",
   "name": "python",
   "nbconvert_exporter": "python",
   "pygments_lexer": "ipython3",
   "version": "3.9.7"
  },
  "latex_envs": {
   "LaTeX_envs_menu_present": true,
   "autoclose": false,
   "autocomplete": true,
   "bibliofile": "biblio.bib",
   "cite_by": "apalike",
   "current_citInitial": 1,
   "eqLabelWithNumbers": true,
   "eqNumInitial": 1,
   "hotkeys": {
    "equation": "Ctrl-E",
    "itemize": "Ctrl-I"
   },
   "labels_anchors": false,
   "latex_user_defs": false,
   "report_style_numbering": false,
   "user_envs_cfg": false
  },
  "toc": {
   "base_numbering": 1,
   "nav_menu": {},
   "number_sections": true,
   "sideBar": true,
   "skip_h1_title": false,
   "title_cell": "Table of Contents",
   "title_sidebar": "Contents",
   "toc_cell": false,
   "toc_position": {},
   "toc_section_display": true,
   "toc_window_display": false
  },
  "varInspector": {
   "cols": {
    "lenName": 16,
    "lenType": 16,
    "lenVar": 40
   },
   "kernels_config": {
    "python": {
     "delete_cmd_postfix": "",
     "delete_cmd_prefix": "del ",
     "library": "var_list.py",
     "varRefreshCmd": "print(var_dic_list())"
    },
    "r": {
     "delete_cmd_postfix": ") ",
     "delete_cmd_prefix": "rm(",
     "library": "var_list.r",
     "varRefreshCmd": "cat(var_dic_list()) "
    }
   },
   "oldHeight": 551.852,
   "position": {
    "height": "640.852px",
    "left": "1327px",
    "right": "20px",
    "top": "140px",
    "width": "473px"
   },
   "types_to_exclude": [
    "module",
    "function",
    "builtin_function_or_method",
    "instance",
    "_Feature"
   ],
   "varInspector_section_display": "block",
   "window_display": false
  }
 },
 "nbformat": 4,
 "nbformat_minor": 5
}
