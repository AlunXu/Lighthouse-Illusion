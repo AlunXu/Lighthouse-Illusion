{
 "cells": [
  {
   "cell_type": "code",
   "execution_count": 1,
   "id": "ad8b2c5e",
   "metadata": {
    "ExecuteTime": {
     "end_time": "2022-12-21T05:57:42.019971Z",
     "start_time": "2022-12-21T05:57:39.982578Z"
    }
   },
   "outputs": [
    {
     "name": "stderr",
     "output_type": "stream",
     "text": [
      "<frozen importlib._bootstrap>:228: RuntimeWarning: scipy._lib.messagestream.MessageStream size changed, may indicate binary incompatibility. Expected 56 from C header, got 64 from PyObject\n"
     ]
    }
   ],
   "source": [
    "import numpy as np\n",
    "import sys\n",
    "import os\n",
    "import math\n",
    "import pandas as pd\n",
    "import seaborn as sns\n",
    "import matplotlib.pyplot as plt\n",
    "from collections import defaultdict\n",
    "np.set_printoptions(threshold=sys.maxsize) # show full ndarray"
   ]
  },
  {
   "cell_type": "markdown",
   "id": "31bf6903",
   "metadata": {},
   "source": [
    "# Inference"
   ]
  },
  {
   "cell_type": "markdown",
   "id": "c4e0897c",
   "metadata": {},
   "source": [
    "## Static: reason for the bent down beam"
   ]
  },
  {
   "cell_type": "markdown",
   "id": "def51b78",
   "metadata": {},
   "source": [
    "**Likelihood**"
   ]
  },
  {
   "cell_type": "code",
   "execution_count": 2,
   "id": "9ee87e78",
   "metadata": {
    "ExecuteTime": {
     "end_time": "2022-12-21T05:58:19.976224Z",
     "start_time": "2022-12-21T05:58:19.757485Z"
    }
   },
   "outputs": [
    {
     "data": {
      "text/plain": [
       "<AxesSubplot:xlabel='Distance', ylabel='Height'>"
      ]
     },
     "execution_count": 2,
     "metadata": {},
     "output_type": "execute_result"
    },
    {
     "data": {
      "image/png": "[encoded data removed]",
      "text/plain": [
       "<Figure size 432x288 with 1 Axes>"
      ]
     },
     "metadata": {
      "needs_background": "light"
     },
     "output_type": "display_data"
    }
   ],
   "source": [
    "# Physical Beam\n",
    "beam_samples = np.array(list(range(1, 20, 1)))\n",
    "phy_height = np.array([30] * 19)\n",
    "phy_beam = np.append(phy_height[:, None], beam_samples[:, None], axis=1)\n",
    "column_values = ['Height', 'Distance']\n",
    "phy_beam_df = pd.DataFrame(data = phy_beam, columns = column_values)\n",
    "sns.scatterplot(data = phy_beam_df, x=\"Distance\", y=\"Height\")"
   ]
  },
  {
   "cell_type": "markdown",
   "id": "4ace94a9",
   "metadata": {},
   "source": [
    "**Prior**"
   ]
  },
  {
   "cell_type": "code",
   "execution_count": 3,
   "id": "0d3f6c93",
   "metadata": {
    "ExecuteTime": {
     "end_time": "2022-12-21T05:58:21.550783Z",
     "start_time": "2022-12-21T05:58:21.534233Z"
    }
   },
   "outputs": [
    {
     "data": {
      "text/plain": [
       "[nan,\n",
       " nan,\n",
       " nan,\n",
       " nan,\n",
       " nan,\n",
       " nan,\n",
       " nan,\n",
       " nan,\n",
       " nan,\n",
       " 255.0,\n",
       " 78.0,\n",
       " 57.0,\n",
       " 39.0,\n",
       " 29.0,\n",
       " 17.0,\n",
       " 11.0,\n",
       " 6.0,\n",
       " 3.0,\n",
       " nan]"
      ]
     },
     "execution_count": 3,
     "metadata": {},
     "output_type": "execute_result"
    }
   ],
   "source": [
    "prior_median_dist_df = pd.read_pickle('prior_median_dist_new-200')\n",
    "distance = prior_median_dist_df['Radial Distance']\n",
    "height = prior_median_dist_df['TransformedHeight']\n",
    "\n",
    "prior_dict = defaultdict(list)\n",
    "for i in range(len(distance)):\n",
    "    if (not math.isnan(distance[i])):\n",
    "        prior_dict[round(distance[i])].append(height[i])\n",
    "        \n",
    "prior = list()\n",
    "for phy_distance in beam_samples:\n",
    "    if (phy_distance in list(prior_dict.keys())) and (max(prior_dict[phy_distance]) >= 0):\n",
    "        prior.append(max(prior_dict[phy_distance]))\n",
    "    else:\n",
    "        prior.append(math.nan)\n",
    "prior"
   ]
  },
  {
   "cell_type": "code",
   "execution_count": 4,
   "id": "aaa2bd38",
   "metadata": {
    "ExecuteTime": {
     "end_time": "2022-12-21T05:58:25.857978Z",
     "start_time": "2022-12-21T05:58:25.854105Z"
    }
   },
   "outputs": [],
   "source": [
    "prior_beam = np.append(np.array(prior)[:, None], beam_samples[:, None], axis=1)\n",
    "column_values = ['Height', 'Distance']\n",
    "prior_beam_df = pd.DataFrame(data = prior_beam, columns = column_values)"
   ]
  },
  {
   "cell_type": "markdown",
   "id": "8612f7a9",
   "metadata": {},
   "source": [
    "**Posterior**"
   ]
  },
  {
   "cell_type": "code",
   "execution_count": 5,
   "id": "590360ba",
   "metadata": {
    "ExecuteTime": {
     "end_time": "2022-12-21T05:58:27.107984Z",
     "start_time": "2022-12-21T05:58:27.104781Z"
    }
   },
   "outputs": [],
   "source": [
    "def combined_mean (dm, dt, vm, vt):\n",
    "    return (1/vm*dm +1/vt*dt) / (1/vm + 1/vt)"
   ]
  },
  {
   "cell_type": "code",
   "execution_count": 6,
   "id": "25ae13bb",
   "metadata": {
    "ExecuteTime": {
     "end_time": "2022-12-21T05:58:27.723943Z",
     "start_time": "2022-12-21T05:58:27.719912Z"
    }
   },
   "outputs": [],
   "source": [
    "per_height = []\n",
    "for i in range(len(beam_samples)):\n",
    "    if not math.isnan(prior[i]): \n",
    "        per_height.append(combined_mean(prior[i], height[i], 1.4, 1.4))\n",
    "    else:\n",
    "        per_height.append(height[i])"
   ]
  },
  {
   "cell_type": "code",
   "execution_count": 7,
   "id": "3c730ccf",
   "metadata": {
    "ExecuteTime": {
     "end_time": "2022-12-21T05:58:29.908111Z",
     "start_time": "2022-12-21T05:58:29.732509Z"
    }
   },
   "outputs": [
    {
     "data": {
      "text/plain": [
       "<AxesSubplot:xlabel='Distance', ylabel='Height'>"
      ]
     },
     "execution_count": 7,
     "metadata": {},
     "output_type": "execute_result"
    },
    {
     "data": {
      "image/png": "[encoded data removed]",
      "text/plain": [
       "<Figure size 432x288 with 1 Axes>"
      ]
     },
     "metadata": {
      "needs_background": "light"
     },
     "output_type": "display_data"
    }
   ],
   "source": [
    "per_beam = np.append(np.array(per_height)[:, None], beam_samples[:, None], axis=1)\n",
    "column_values = ['Height', 'Distance']\n",
    "per_beam_df = pd.DataFrame(data = per_beam, columns = column_values)\n",
    "sns.scatterplot(data = per_beam_df, x=\"Distance\", y=\"Height\")"
   ]
  },
  {
   "cell_type": "markdown",
   "id": "0488b458",
   "metadata": {},
   "source": [
    "issue:\n",
    "- 1. rouding issue.\n",
    "- 2. prior only reaches 19m."
   ]
  }
 ],
 "metadata": {
  "hide_input": false,
  "kernelspec": {
   "display_name": "Python 3 (ipykernel)",
   "language": "python",
   "name": "python3"
  },
  "language_info": {
   "codemirror_mode": {
    "name": "ipython",
    "version": 3
   },
   "file_extension": ".py",
   "mimetype": "text/x-python",
   "name": "python",
   "nbconvert_exporter": "python",
   "pygments_lexer": "ipython3",
   "version": "3.9.7"
  },
  "latex_envs": {
   "LaTeX_envs_menu_present": true,
   "autoclose": false,
   "autocomplete": true,
   "bibliofile": "biblio.bib",
   "cite_by": "apalike",
   "current_citInitial": 1,
   "eqLabelWithNumbers": true,
   "eqNumInitial": 1,
   "hotkeys": {
    "equation": "Ctrl-E",
    "itemize": "Ctrl-I"
   },
   "labels_anchors": false,
   "latex_user_defs": false,
   "report_style_numbering": false,
   "user_envs_cfg": false
  },
  "toc": {
   "base_numbering": 1,
   "nav_menu": {},
   "number_sections": true,
   "sideBar": true,
   "skip_h1_title": false,
   "title_cell": "Table of Contents",
   "title_sidebar": "Contents",
   "toc_cell": false,
   "toc_position": {},
   "toc_section_display": true,
   "toc_window_display": false
  },
  "varInspector": {
   "cols": {
    "lenName": 16,
    "lenType": 16,
    "lenVar": 40
   },
   "kernels_config": {
    "python": {
     "delete_cmd_postfix": "",
     "delete_cmd_prefix": "del ",
     "library": "var_list.py",
     "varRefreshCmd": "print(var_dic_list())"
    },
    "r": {
     "delete_cmd_postfix": ") ",
     "delete_cmd_prefix": "rm(",
     "library": "var_list.r",
     "varRefreshCmd": "cat(var_dic_list()) "
    }
   },
   "types_to_exclude": [
    "module",
    "function",
    "builtin_function_or_method",
    "instance",
    "_Feature"
   ],
   "window_display": false
  }
 },
 "nbformat": 4,
 "nbformat_minor": 5
}
