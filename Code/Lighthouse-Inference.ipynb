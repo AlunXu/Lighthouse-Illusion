{
 "cells": [
  {
   "cell_type": "code",
   "execution_count": 4,
   "id": "ad8b2c5e",
   "metadata": {
    "ExecuteTime": {
     "end_time": "2022-12-21T04:25:57.317051Z",
     "start_time": "2022-12-21T04:25:55.265364Z"
    }
   },
   "outputs": [
    {
     "name": "stderr",
     "output_type": "stream",
     "text": [
      "<frozen importlib._bootstrap>:228: RuntimeWarning: scipy._lib.messagestream.MessageStream size changed, may indicate binary incompatibility. Expected 56 from C header, got 64 from PyObject\n"
     ]
    }
   ],
   "source": [
    "import numpy as np\n",
    "import sys\n",
    "import os\n",
    "import math\n",
    "import pandas as pd\n",
    "import seaborn as sns\n",
    "import matplotlib.pyplot as plt\n",
    "from collections import defaultdict\n",
    "np.set_printoptions(threshold=sys.maxsize) # show full ndarray"
   ]
  },
  {
   "cell_type": "markdown",
   "id": "31bf6903",
   "metadata": {},
   "source": [
    "# Inference"
   ]
  },
  {
   "cell_type": "markdown",
   "id": "c4e0897c",
   "metadata": {},
   "source": [
    "## Static: reason for the bent down beam"
   ]
  },
  {
   "cell_type": "markdown",
   "id": "def51b78",
   "metadata": {},
   "source": [
    "**Likelihood**"
   ]
  },
  {
   "cell_type": "code",
   "execution_count": 222,
   "id": "9ee87e78",
   "metadata": {
    "ExecuteTime": {
     "end_time": "2022-12-20T06:00:07.708078Z",
     "start_time": "2022-12-20T06:00:07.529566Z"
    }
   },
   "outputs": [
    {
     "data": {
      "text/plain": [
       "<AxesSubplot:xlabel='Distance', ylabel='Height'>"
      ]
     },
     "execution_count": 222,
     "metadata": {},
     "output_type": "execute_result"
    },
    {
     "data": {
      "image/png": "[encoded data removed]",
      "text/plain": [
       "<Figure size 432x288 with 1 Axes>"
      ]
     },
     "metadata": {
      "needs_background": "light"
     },
     "output_type": "display_data"
    }
   ],
   "source": [
    "# Physical Beam\n",
    "beam_samples = np.array(list(range(1, 20, 1)))\n",
    "phy_height = np.array([30] * 19)\n",
    "phy_beam = np.append(phy_height[:, None], beam_samples[:, None], axis=1)\n",
    "column_values = ['Height', 'Distance']\n",
    "phy_beam_df = pd.DataFrame(data = phy_beam, columns = column_values)\n",
    "sns.scatterplot(data = phy_beam_df, x=\"Distance\", y=\"Height\")"
   ]
  },
  {
   "cell_type": "markdown",
   "id": "4ace94a9",
   "metadata": {},
   "source": [
    "**Prior**"
   ]
  },
  {
   "cell_type": "code",
   "execution_count": 185,
   "id": "0d3f6c93",
   "metadata": {
    "ExecuteTime": {
     "end_time": "2022-12-20T04:37:13.182759Z",
     "start_time": "2022-12-20T04:37:13.079586Z"
    }
   },
   "outputs": [
    {
     "name": "stdout",
     "output_type": "stream",
     "text": [
      "nan -256.0\n",
      "nan -255.0\n",
      "nan -254.0\n",
      "nan -253.0\n",
      "nan -252.0\n",
      "nan -251.0\n",
      "nan -250.0\n",
      "nan -249.0\n",
      "nan -248.0\n",
      "nan -247.0\n",
      "nan -246.0\n",
      "nan -245.0\n",
      "nan -244.0\n",
      "nan -243.0\n",
      "nan -242.0\n",
      "nan -241.0\n",
      "nan -240.0\n",
      "nan -239.0\n",
      "nan -238.0\n",
      "nan -237.0\n",
      "nan -236.0\n",
      "nan -235.0\n",
      "nan -234.0\n",
      "nan -233.0\n",
      "nan -232.0\n",
      "nan -231.0\n",
      "nan -230.0\n",
      "nan -229.0\n",
      "nan -228.0\n",
      "nan -227.0\n",
      "nan -226.0\n",
      "nan -225.0\n",
      "nan -224.0\n",
      "nan -223.0\n",
      "nan -222.0\n",
      "nan -221.0\n",
      "nan -220.0\n",
      "nan -219.0\n",
      "nan -218.0\n",
      "nan -217.0\n",
      "nan -216.0\n",
      "nan -215.0\n",
      "nan -214.0\n",
      "nan -213.0\n",
      "nan -212.0\n",
      "nan -211.0\n",
      "nan -210.0\n",
      "nan -209.0\n",
      "nan -208.0\n",
      "nan -207.0\n",
      "nan -206.0\n",
      "nan -205.0\n",
      "nan -204.0\n",
      "nan -203.0\n",
      "nan -202.0\n",
      "nan -201.0\n",
      "nan -200.0\n",
      "nan -199.0\n",
      "nan -198.0\n",
      "nan -197.0\n",
      "nan -196.0\n",
      "nan -195.0\n",
      "nan -194.0\n",
      "nan -193.0\n",
      "nan -192.0\n",
      "nan -191.0\n",
      "nan -190.0\n",
      "nan -189.0\n",
      "nan -188.0\n",
      "nan -187.0\n",
      "nan -186.0\n",
      "nan -185.0\n",
      "nan -184.0\n",
      "nan -183.0\n",
      "nan -182.0\n",
      "nan -181.0\n",
      "nan -180.0\n",
      "nan -179.0\n",
      "nan -178.0\n",
      "nan -177.0\n",
      "nan -176.0\n",
      "nan -175.0\n",
      "nan -174.0\n",
      "nan -173.0\n",
      "nan -172.0\n",
      "nan -171.0\n",
      "nan -170.0\n",
      "nan -169.0\n",
      "nan -168.0\n",
      "nan -167.0\n",
      "nan -166.0\n",
      "nan -165.0\n",
      "nan -164.0\n",
      "nan -163.0\n",
      "nan -162.0\n",
      "nan -161.0\n",
      "nan -160.0\n",
      "nan -159.0\n",
      "nan -158.0\n",
      "nan -157.0\n",
      "nan -156.0\n",
      "nan -155.0\n",
      "nan -154.0\n",
      "nan -153.0\n",
      "nan -152.0\n",
      "nan -151.0\n",
      "nan -150.0\n",
      "nan -149.0\n",
      "nan -148.0\n",
      "nan -147.0\n",
      "nan -146.0\n",
      "nan -145.0\n",
      "nan -144.0\n",
      "nan -143.0\n",
      "nan -142.0\n",
      "nan -141.0\n",
      "3.352865933877079 -140.0\n",
      "3.3473782791961013 -139.0\n",
      "3.341921189975495 -138.0\n",
      "3.33649481619162 -137.0\n",
      "3.258105173654308 -136.0\n",
      "3.2528582329107754 -135.0\n",
      "3.247641775323189 -134.0\n",
      "3.2424559480153 -133.0\n",
      "3.2373008981869056 -132.0\n",
      "3.2321767731004734 -131.0\n",
      "3.154784586094046 -130.0\n",
      "3.1498361570768845 -129.0\n",
      "3.144918392091616 -128.0\n",
      "3.140031435211804 -127.0\n",
      "3.135175430503918 -126.0\n",
      "3.13035052201307 -125.0\n",
      "3.1255568537485465 -124.0\n",
      "3.1207945696691524 -123.0\n",
      "3.1160638136683545 -122.0\n",
      "3.182668797803529 -121.0\n",
      "3.17789456812716 -120.0\n",
      "3.1731530300851483 -119.0\n",
      "3.239429715705153 -118.0\n",
      "3.163768615830014 -117.0\n",
      "3.159126032699062 -116.0\n",
      "3.2251900805143525 -115.0\n",
      "3.2205116815891643 -114.0\n",
      "3.2226084345077948 -113.0\n",
      "3.217989165856018 -112.0\n",
      "3.2134045891495258 -111.0\n",
      "3.20885485308425 -110.0\n",
      "3.2043401060674013 -109.0\n",
      "3.199860496199223 -108.0\n",
      "3.2021001223809855 -107.0\n",
      "3.20242786257418 -106.0\n",
      "3.198038897361334 -105.0\n",
      "3.1913193363038483 -104.0\n",
      "3.1893686756622506 -103.0\n",
      "3.185087712373145 -102.0\n",
      "3.180843042200489 -101.0\n",
      "3.214932272645048 -100.0\n",
      "3.2107103313582135 -99.0\n",
      "3.1683282428230464 -98.0\n",
      "3.2023781072305946 -97.0\n",
      "3.296148985881442 -96.0\n",
      "3.33076763594563 -95.0\n",
      "3.3265604948801237 -94.0\n",
      "3.3223928678540036 -93.0\n",
      "3.3182649037521124 -92.0\n",
      "3.3141767507806046 -91.0\n",
      "3.3101285564449245 -90.0\n",
      "3.306120467527679 -89.0\n",
      "3.3021526300664132 -88.0\n",
      "3.2597887600273374 -87.0\n",
      "3.3327291710962323 -86.0\n",
      "3.426334991691476 -85.0\n",
      "3.4223725051842013 -84.0\n",
      "3.4184526797312516 -83.0\n",
      "3.4145756622532746 -82.0\n",
      "3.415261801408191 -81.0\n",
      "3.5038961566095277 -80.0\n",
      "3.5157098286319592 -79.0\n",
      "3.512513514282314 -78.0\n",
      "3.508731004706911 -77.0\n",
      "3.5049936158114825 -76.0\n",
      "3.556791909480655 -75.0\n",
      "3.593562567593447 -74.0\n",
      "3.6123612272717094 -73.0\n",
      "3.6311610434102373 -72.0\n",
      "3.6275099676586637 -71.0\n",
      "3.667708177731765 -70.0\n",
      "3.664109917697171 -69.0\n",
      "3.6911430497877786 -68.0\n",
      "4.015628558374903 -67.0\n",
      "4.031462017977531 -66.0\n",
      "4.0473128502535145 -65.0\n",
      "4.077760954571169 -64.0\n",
      "4.074066519716515 -63.0\n",
      "4.070427452927949 -62.0\n",
      "4.1168651607640445 -61.0\n",
      "4.129226193150508 -60.0\n",
      "4.109779098470169 -59.0\n",
      "4.134019981734509 -58.0\n",
      "4.289201504608614 -57.0\n",
      "4.296917984704308 -56.0\n",
      "4.358455788516108 -55.0\n",
      "4.372514956986153 -54.0\n",
      "4.376231234845097 -53.0\n",
      "4.389193776971647 -52.0\n",
      "4.385909741131457 -51.0\n",
      "4.433552828423546 -50.0\n",
      "4.4909842740288 -49.0\n",
      "4.507097256967615 -48.0\n",
      "4.5139617864471 -47.0\n",
      "4.500910001789052 -46.0\n",
      "4.520754426422293 -45.0\n",
      "4.528948216925524 -44.0\n",
      "4.581450652059255 -43.0\n",
      "4.663000730199339 -42.0\n",
      "4.735167338231749 -41.0\n",
      "4.875049555361354 -40.0\n",
      "5.139939909778457 -39.0\n",
      "5.370867669970514 -38.0\n",
      "5.367898288861736 -37.0\n",
      "5.624733041426048 -36.0\n",
      "5.626628727435009 -35.0\n",
      "5.658739425323025 -34.0\n",
      "5.731883721230935 -33.0\n",
      "5.818594984688153 -32.0\n",
      "5.894866488621503 -31.0\n",
      "6.323966764315877 -30.0\n",
      "6.574560101521957 -29.0\n",
      "6.608884815539556 -28.0\n",
      "6.709921424637741 -27.0\n",
      "6.78543358724431 -26.0\n",
      "6.9169643634658105 -25.0\n",
      "7.188099592872925 -24.0\n",
      "7.232407698923891 -23.0\n",
      "7.430840713560672 -22.0\n",
      "7.540329757615091 -21.0\n",
      "7.72897168245395 -20.0\n",
      "7.803945422493744 -19.0\n",
      "7.873717557339879 -18.0\n",
      "8.088032760744117 -17.0\n",
      "8.422920683636189 -16.0\n",
      "8.781294530313705 -15.0\n",
      "9.300818801938323 -14.0\n",
      "9.76205328939846 -13.0\n",
      "10.230271600242876 -12.0\n",
      "10.622443380970218 -11.0\n",
      "11.473493877955205 -10.0\n",
      "12.40611058076935 -9.0\n",
      "13.177847115125825 -8.0\n",
      "13.993625220881908 -7.0\n",
      "15.252621514403293 -6.0\n",
      "16.387010651280498 -5.0\n",
      "17.68048710333657 -4.0\n",
      "19.009085069920648 -3.0\n",
      "18.892946304585575 -2.0\n",
      "18.770484486447874 -1.0\n",
      "18.43288885657524 0.0\n",
      "18.115318362555097 1.0\n",
      "17.735932095700445 2.0\n",
      "17.590404146171448 3.0\n",
      "17.167271092971216 4.0\n",
      "16.699592497720136 5.0\n",
      "16.62567592890993 6.0\n",
      "16.25687683932744 7.0\n",
      "16.202521630521986 8.0\n",
      "16.04139512909117 9.0\n",
      "15.843111055330475 10.0\n",
      "15.597205075900696 11.0\n",
      "15.339631386246353 12.0\n",
      "15.296567905189557 13.0\n",
      "15.075137647315481 14.0\n",
      "14.910966225702568 15.0\n",
      "14.798798280680161 16.0\n",
      "14.505122645555756 17.0\n",
      "14.327787873397574 18.0\n",
      "14.300978829822078 19.0\n",
      "14.08822539315437 20.0\n",
      "13.842436905300508 21.0\n",
      "13.847050404474823 22.0\n",
      "13.835377773105794 23.0\n",
      "13.804126275091948 24.0\n",
      "13.810134986105925 25.0\n",
      "13.799509153987604 26.0\n",
      "13.692547600310009 27.0\n",
      "13.693996330079663 28.0\n",
      "13.601558962441796 29.0\n",
      "13.334912570914458 30.0\n",
      "13.420251204610537 31.0\n",
      "13.20910030512995 32.0\n",
      "13.063814904268781 33.0\n",
      "12.970732733553167 34.0\n",
      "12.97753450415904 35.0\n",
      "12.920181041827604 36.0\n",
      "12.7917701000733 37.0\n",
      "12.57495802161332 38.0\n",
      "12.538871687728498 39.0\n",
      "12.361630055283367 40.0\n",
      "12.265006921559428 41.0\n",
      "12.272663522084509 42.0\n",
      "12.169841998145833 43.0\n",
      "12.169600424909586 44.0\n",
      "12.068348705653504 45.0\n",
      "11.951202418974468 46.0\n",
      "11.953967054432427 47.0\n",
      "11.880860422781872 48.0\n",
      "11.88009223868976 49.0\n",
      "11.822168612239597 50.0\n",
      "11.737138611213215 51.0\n",
      "11.705223262728815 52.0\n",
      "11.71230272166775 53.0\n",
      "11.723548610771072 54.0\n",
      "11.732957044971302 55.0\n",
      "11.670106205160657 56.0\n",
      "11.510742341716607 57.0\n",
      "11.384177559529963 58.0\n",
      "11.323354180719923 59.0\n",
      "11.217189429383977 60.0\n",
      "11.218824020864641 61.0\n",
      "11.141346565611114 62.0\n",
      "11.08622248235216 63.0\n",
      "11.000046610260668 64.0\n",
      "11.00414426848941 65.0\n",
      "11.014540510700794 66.0\n",
      "11.010951018258059 67.0\n",
      "10.98690544657852 68.0\n",
      "10.95024279991095 69.0\n",
      "10.910550067396054 70.0\n",
      "10.885699137289363 71.0\n",
      "10.844335162192618 72.0\n",
      "10.770842324523642 73.0\n",
      "10.74870935709003 74.0\n",
      "10.760043875106422 75.0\n",
      "10.71457069965269 76.0\n",
      "10.623863941804716 77.0\n",
      "10.508823359045548 78.0\n",
      "10.483919098048876 79.0\n",
      "10.461310547343881 80.0\n",
      "10.416686109813565 81.0\n",
      "10.457840300593677 82.0\n",
      "10.425852070861751 83.0\n",
      "10.393405432187212 84.0\n",
      "10.385271058305147 85.0\n",
      "10.380155722749429 86.0\n",
      "10.281388403973384 87.0\n",
      "10.379087167184679 88.0\n",
      "10.251944657587556 89.0\n",
      "10.175792083022717 90.0\n",
      "10.106852537493381 91.0\n",
      "10.082192805989655 92.0\n",
      "10.094839961486331 93.0\n",
      "10.094541991909205 94.0\n",
      "10.103818768095493 95.0\n",
      "10.120400567913459 96.0\n",
      "10.133507668908768 97.0\n",
      "10.089667475485642 98.0\n",
      "10.063621464103065 99.0\n",
      "10.040185852849602 100.0\n",
      "10.053583960474564 101.0\n",
      "10.058075078301892 102.0\n",
      "10.07168962886984 103.0\n",
      "10.08541771242894 104.0\n",
      "10.077833924849495 105.0\n",
      "10.091758082156842 106.0\n",
      "10.10366132217033 107.0\n",
      "10.094321294325967 108.0\n",
      "10.059837395321786 109.0\n",
      "10.038625413004935 110.0\n",
      "10.137318601200752 111.0\n",
      "10.152770261789525 112.0\n",
      "10.133186797723356 113.0\n",
      "10.132242653748934 114.0\n",
      "10.147047647496592 115.0\n",
      "10.1776699748244 116.0\n",
      "10.141140036368302 117.0\n",
      "10.156211023091089 118.0\n",
      "10.10389177407459 119.0\n",
      "10.11907110080192 120.0\n",
      "10.134353901226143 121.0\n",
      "10.132818643520203 122.0\n",
      "10.113568905479756 123.0\n",
      "10.120069248988262 124.0\n",
      "10.104206932495657 125.0\n",
      "10.119857117795101 126.0\n",
      "10.12334420435663 127.0\n",
      "10.1386812697924 128.0\n",
      "10.039708905389045 129.0\n",
      "10.03230495353137 130.0\n",
      "9.972606995867649 131.0\n",
      "9.988487288617542 132.0\n",
      "10.002347842502846 133.0\n",
      "9.937670166877794 134.0\n",
      "10.003426728939326 135.0\n",
      "9.935281853681897 136.0\n",
      "9.910115786445964 137.0\n",
      "9.920103616754435 138.0\n",
      "9.918107423406413 139.0\n",
      "9.934430418469018 140.0\n",
      "9.969162309600039 141.0\n",
      "9.944733721902054 142.0\n",
      "9.792897672872668 143.0\n",
      "9.76505616339814 144.0\n",
      "9.748715441129791 145.0\n",
      "9.739385477923696 146.0\n",
      "9.747626112458393 147.0\n",
      "9.735418359231982 148.0\n",
      "9.714808579033058 149.0\n",
      "9.707930069835667 150.0\n",
      "9.692531587724927 151.0\n",
      "9.626178268445186 152.0\n",
      "9.640802916050607 153.0\n",
      "9.609900941049476 154.0\n",
      "9.62437654344752 155.0\n",
      "9.641097033597953 156.0\n",
      "9.650939840912786 157.0\n",
      "9.667803682739953 158.0\n",
      "9.658669607288926 159.0\n",
      "9.572320859881287 160.0\n",
      "9.588352274805477 161.0\n",
      "9.54434943283654 162.0\n",
      "9.586394418379685 163.0\n",
      "9.63939295657781 164.0\n",
      "9.620515806471854 165.0\n",
      "9.673789129643867 166.0\n",
      "9.654929248907807 167.0\n",
      "9.641276601914806 168.0\n",
      "9.658608049626555 169.0\n",
      "9.663949728238398 170.0\n",
      "9.693484261074685 171.0\n",
      "9.675359441994171 172.0\n",
      "9.69290882861256 173.0\n",
      "9.647638841409721 174.0\n",
      "9.728215574130884 175.0\n",
      "9.68285380465702 176.0\n",
      "9.700563291236849 177.0\n",
      "9.718340285913829 178.0\n",
      "9.731976762737347 179.0\n",
      "9.692268726041798 180.0\n",
      "9.693933829719377 181.0\n",
      "9.619647664833504 182.0\n",
      "9.631729994590595 183.0\n",
      "9.626735918172427 184.0\n",
      "9.621118421113561 185.0\n",
      "9.65303763464299 186.0\n",
      "9.680531391734984 187.0\n",
      "9.7098285783123 188.0\n",
      "9.72796923978299 189.0\n",
      "9.746171849775466 190.0\n",
      "9.753133101829667 191.0\n",
      "9.747642336036376 192.0\n",
      "9.728164848151224 193.0\n",
      "9.656295711302084 194.0\n",
      "9.651940049181718 195.0\n",
      "9.649238859615188 196.0\n",
      "9.628403199637075 197.0\n",
      "9.584688877255278 198.0\n",
      "9.59305905584028 199.0\n",
      "9.581604370702719 200.0\n",
      "9.599801303369695 201.0\n",
      "9.605708390914023 202.0\n",
      "9.607125509777617 203.0\n",
      "9.61730716498615 204.0\n",
      "9.628520853727792 205.0\n",
      "9.636555152698614 206.0\n",
      "9.65497717429828 207.0\n",
      "9.673452853900395 208.0\n",
      "9.689707035632473 209.0\n",
      "9.662870925940144 210.0\n",
      "9.641013580045447 211.0\n",
      "9.6576723258543 212.0\n",
      "9.676238294370599 213.0\n",
      "9.6948556219067 214.0\n",
      "9.694813344574609 215.0\n",
      "9.732243174256354 216.0\n",
      "9.73222993147683 217.0\n",
      "9.780530185688418 218.0\n",
      "9.799420569405482 219.0\n",
      "9.774562869411648 220.0\n",
      "9.788391031779911 221.0\n",
      "9.803376125656726 222.0\n",
      "9.812157569850564 223.0\n",
      "9.840807692696647 224.0\n",
      "9.859887465720304 225.0\n",
      "9.880191530718868 226.0\n",
      "9.906184232565394 227.0\n",
      "9.918002481458256 228.0\n",
      "9.94128529957371 229.0\n",
      "9.946246601648141 230.0\n",
      "9.941470807629816 231.0\n",
      "9.952411916577976 232.0\n",
      "9.955258503212455 233.0\n",
      "9.951346017364058 234.0\n",
      "9.951187128677388 235.0\n",
      "9.963038251416489 236.0\n",
      "9.962704616397433 237.0\n",
      "9.96586889845157 238.0\n",
      "10.001599681084203 239.0\n",
      "10.004787510337431 240.0\n",
      "9.999763266383548 241.0\n",
      "10.01928221825056 242.0\n",
      "10.011869109707842 243.0\n",
      "10.031420078108459 244.0\n",
      "10.049948578202216 245.0\n",
      "10.008546004271205 246.0\n",
      "10.028100497227692 247.0\n",
      "10.043293925561697 248.0\n",
      "10.044053995372959 249.0\n",
      "10.063684918333372 250.0\n",
      "10.073565813352142 251.0\n",
      "10.08677963900946 252.0\n",
      "10.106498247668862 253.0\n",
      "10.116187999174123 254.0\n",
      "10.13596532216205 255.0\n"
     ]
    }
   ],
   "source": [
    "distance = prior_median_dist_df['Radial Distance']\n",
    "height = prior_median_dist_df['TransformedHeight']\n",
    "\n",
    "prior_dict = defaultdict(list)\n",
    "for i in range(len(distance)):\n",
    "    print(distance[i], height[i])\n",
    "    if (not math.isnan(distance[i])):\n",
    "        prior_dict[round(distance[i])].append(height[i])"
   ]
  },
  {
   "cell_type": "code",
   "execution_count": 190,
   "id": "7f7f2b19",
   "metadata": {
    "ExecuteTime": {
     "end_time": "2022-12-20T04:39:44.501720Z",
     "start_time": "2022-12-20T04:39:44.491733Z"
    }
   },
   "outputs": [
    {
     "data": {
      "text/plain": [
       "[nan,\n",
       " nan,\n",
       " nan,\n",
       " nan,\n",
       " nan,\n",
       " nan,\n",
       " nan,\n",
       " nan,\n",
       " nan,\n",
       " 255.0,\n",
       " 78.0,\n",
       " 57.0,\n",
       " 39.0,\n",
       " 29.0,\n",
       " 17.0,\n",
       " 11.0,\n",
       " 6.0,\n",
       " 3.0,\n",
       " nan]"
      ]
     },
     "execution_count": 190,
     "metadata": {},
     "output_type": "execute_result"
    }
   ],
   "source": [
    "prior = list()\n",
    "for phy_distance in beam_samples:\n",
    "    if (phy_distance in list(prior_dict.keys())) and (max(prior_dict[phy_distance]) >= 0):\n",
    "        prior.append(max(prior_dict[phy_distance]))\n",
    "    else:\n",
    "        prior.append(math.nan)\n",
    "prior"
   ]
  },
  {
   "cell_type": "code",
   "execution_count": 209,
   "id": "aaa2bd38",
   "metadata": {
    "ExecuteTime": {
     "end_time": "2022-12-20T05:46:56.939982Z",
     "start_time": "2022-12-20T05:46:56.875325Z"
    }
   },
   "outputs": [],
   "source": [
    "prior_beam = np.append(np.array(prior)[:, None], beam_samples[:, None], axis=1)\n",
    "column_values = ['Height', 'Distance']\n",
    "prior_beam_df = pd.DataFrame(data = prior_beam, columns = column_values)"
   ]
  },
  {
   "cell_type": "markdown",
   "id": "8612f7a9",
   "metadata": {},
   "source": [
    "**Posterior**"
   ]
  },
  {
   "cell_type": "code",
   "execution_count": 211,
   "id": "590360ba",
   "metadata": {
    "ExecuteTime": {
     "end_time": "2022-12-20T05:50:14.415420Z",
     "start_time": "2022-12-20T05:50:14.412303Z"
    }
   },
   "outputs": [],
   "source": [
    "def combined_mean (dm, dt, vm, vt):\n",
    "    return (1/vm*dm +1/vt*dt) / (1/vm + 1/vt)"
   ]
  },
  {
   "cell_type": "code",
   "execution_count": 220,
   "id": "25ae13bb",
   "metadata": {
    "ExecuteTime": {
     "end_time": "2022-12-20T05:53:52.130006Z",
     "start_time": "2022-12-20T05:53:52.127008Z"
    }
   },
   "outputs": [],
   "source": [
    "per_height = []\n",
    "for i in range(len(beam_samples)):\n",
    "    if not math.isnan(prior[i]): \n",
    "        per_height.append(combined_mean(prior[i], height[i], 1.4, 1.4))\n",
    "    else:\n",
    "        per_height.append(height[i])"
   ]
  },
  {
   "cell_type": "code",
   "execution_count": 178,
   "id": "f2193be5",
   "metadata": {
    "ExecuteTime": {
     "end_time": "2022-12-20T04:32:51.728375Z",
     "start_time": "2022-12-20T04:32:51.721673Z"
    }
   },
   "outputs": [
    {
     "data": {
      "text/plain": [
       "0     -256.0\n",
       "1     -255.0\n",
       "2     -254.0\n",
       "3     -253.0\n",
       "4     -252.0\n",
       "       ...  \n",
       "507    251.0\n",
       "508    252.0\n",
       "509    253.0\n",
       "510    254.0\n",
       "511    255.0\n",
       "Name: TransformedHeight, Length: 512, dtype: float64"
      ]
     },
     "execution_count": 178,
     "metadata": {},
     "output_type": "execute_result"
    }
   ],
   "source": [
    "prior_median_dist_df['TransformedHeight']"
   ]
  },
  {
   "cell_type": "code",
   "execution_count": 221,
   "id": "3c730ccf",
   "metadata": {
    "ExecuteTime": {
     "end_time": "2022-12-20T05:54:05.235622Z",
     "start_time": "2022-12-20T05:54:05.092270Z"
    }
   },
   "outputs": [
    {
     "data": {
      "text/plain": [
       "<AxesSubplot:xlabel='Distance', ylabel='Height'>"
      ]
     },
     "execution_count": 221,
     "metadata": {},
     "output_type": "execute_result"
    },
    {
     "data": {
      "image/png": "[encoded data removed]",
      "text/plain": [
       "<Figure size 432x288 with 1 Axes>"
      ]
     },
     "metadata": {
      "needs_background": "light"
     },
     "output_type": "display_data"
    }
   ],
   "source": [
    "per_beam = np.append(np.array(per_height)[:, None], beam_samples[:, None], axis=1)\n",
    "column_values = ['Height', 'Distance']\n",
    "per_beam_df = pd.DataFrame(data = per_beam, columns = column_values)\n",
    "sns.scatterplot(data = per_beam_df, x=\"Distance\", y=\"Height\")"
   ]
  },
  {
   "cell_type": "code",
   "execution_count": null,
   "id": "cfe6f25b",
   "metadata": {
    "ExecuteTime": {
     "start_time": "2022-12-20T04:33:43.066Z"
    }
   },
   "outputs": [],
   "source": [
    " in height"
   ]
  },
  {
   "cell_type": "markdown",
   "id": "0488b458",
   "metadata": {},
   "source": [
    "issue:\n",
    "- 1. rouding issue.\n",
    "- 2. prior only reaches 19m."
   ]
  }
 ],
 "metadata": {
  "hide_input": false,
  "kernelspec": {
   "display_name": "Python 3 (ipykernel)",
   "language": "python",
   "name": "python3"
  },
  "language_info": {
   "codemirror_mode": {
    "name": "ipython",
    "version": 3
   },
   "file_extension": ".py",
   "mimetype": "text/x-python",
   "name": "python",
   "nbconvert_exporter": "python",
   "pygments_lexer": "ipython3",
   "version": "3.9.7"
  },
  "latex_envs": {
   "LaTeX_envs_menu_present": true,
   "autoclose": false,
   "autocomplete": true,
   "bibliofile": "biblio.bib",
   "cite_by": "apalike",
   "current_citInitial": 1,
   "eqLabelWithNumbers": true,
   "eqNumInitial": 1,
   "hotkeys": {
    "equation": "Ctrl-E",
    "itemize": "Ctrl-I"
   },
   "labels_anchors": false,
   "latex_user_defs": false,
   "report_style_numbering": false,
   "user_envs_cfg": false
  },
  "toc": {
   "base_numbering": 1,
   "nav_menu": {},
   "number_sections": true,
   "sideBar": true,
   "skip_h1_title": false,
   "title_cell": "Table of Contents",
   "title_sidebar": "Contents",
   "toc_cell": false,
   "toc_position": {},
   "toc_section_display": true,
   "toc_window_display": false
  },
  "varInspector": {
   "cols": {
    "lenName": 16,
    "lenType": 16,
    "lenVar": 40
   },
   "kernels_config": {
    "python": {
     "delete_cmd_postfix": "",
     "delete_cmd_prefix": "del ",
     "library": "var_list.py",
     "varRefreshCmd": "print(var_dic_list())"
    },
    "r": {
     "delete_cmd_postfix": ") ",
     "delete_cmd_prefix": "rm(",
     "library": "var_list.r",
     "varRefreshCmd": "cat(var_dic_list()) "
    }
   },
   "types_to_exclude": [
    "module",
    "function",
    "builtin_function_or_method",
    "instance",
    "_Feature"
   ],
   "window_display": false
  }
 },
 "nbformat": 4,
 "nbformat_minor": 5
}
